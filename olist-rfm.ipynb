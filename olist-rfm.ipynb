{
 "cells": [
  {
   "cell_type": "code",
   "execution_count": 1,
   "id": "66d7083c",
   "metadata": {
    "execution": {
     "iopub.execute_input": "2023-02-18T09:10:59.226087Z",
     "iopub.status.busy": "2023-02-18T09:10:59.225582Z",
     "iopub.status.idle": "2023-02-18T09:11:00.783071Z",
     "shell.execute_reply": "2023-02-18T09:11:00.781865Z"
    },
    "papermill": {
     "duration": 1.580002,
     "end_time": "2023-02-18T09:11:00.786165",
     "exception": false,
     "start_time": "2023-02-18T09:10:59.206163",
     "status": "completed"
    },
    "tags": []
   },
   "outputs": [],
   "source": [
    "import pandas as pd\n",
    "import urllib\n",
    "import json\n",
    "import unidecode\n",
    "import seaborn as sns\n",
    "import matplotlib.pyplot as plt\n",
    "import matplotlib.image as mpimg\n",
    "import datetime\n",
    "import numpy as np\n",
    "from statsmodels.tsa.seasonal import seasonal_decompose\n",
    "from sklearn.preprocessing import StandardScaler\n",
    "from sklearn.cluster import KMeans"
   ]
  },
  {
   "cell_type": "markdown",
   "id": "091fdcf5",
   "metadata": {
    "papermill": {
     "duration": 0.014716,
     "end_time": "2023-02-18T09:11:00.816463",
     "exception": false,
     "start_time": "2023-02-18T09:11:00.801747",
     "status": "completed"
    },
    "tags": []
   },
   "source": [
    "## Problem Description\n",
    "The dataset has information of 100k orders from 2016 to 2018 made at multiple marketplaces in Brazil.  From the analysis of the information, answer the following questions:\n",
    "\n",
    "* Who are these customers?\n",
    "* How would you classify them?\n",
    "* What would be a possible CRM campaign strategy?\n",
    "\n",
    "**Data Diagram:**\n",
    "\n",
    "<img src=\"https://i.imgur.com/HRhd2Y0.png\" width=760 height=760 />\n",
    "\n",
    "\n",
    "<a id='data_analysis'></a>\n",
    "## Data Analysis"
   ]
  },
  {
   "cell_type": "code",
   "execution_count": 2,
   "id": "cc7dddb6",
   "metadata": {
    "execution": {
     "iopub.execute_input": "2023-02-18T09:11:00.849438Z",
     "iopub.status.busy": "2023-02-18T09:11:00.848161Z",
     "iopub.status.idle": "2023-02-18T09:11:04.312075Z",
     "shell.execute_reply": "2023-02-18T09:11:04.310885Z"
    },
    "papermill": {
     "duration": 3.483037,
     "end_time": "2023-02-18T09:11:04.314705",
     "exception": false,
     "start_time": "2023-02-18T09:11:00.831668",
     "status": "completed"
    },
    "tags": []
   },
   "outputs": [],
   "source": [
    "customers = pd.read_csv('/kaggle/input/brazilian-ecommerce/olist_customers_dataset.csv')\n",
    "geolocation = pd.read_csv('/kaggle/input/brazilian-ecommerce/olist_geolocation_dataset.csv')\n",
    "orders = pd.read_csv('/kaggle/input/brazilian-ecommerce/olist_orders_dataset.csv')\n",
    "order_items = pd.read_csv('/kaggle/input/brazilian-ecommerce/olist_order_items_dataset.csv')"
   ]
  },
  {
   "cell_type": "markdown",
   "id": "c5d0aecb",
   "metadata": {
    "papermill": {
     "duration": 0.015423,
     "end_time": "2023-02-18T09:11:04.345848",
     "exception": false,
     "start_time": "2023-02-18T09:11:04.330425",
     "status": "completed"
    },
    "tags": []
   },
   "source": [
    "<a id='customers'></a>\n",
    "### Customers"
   ]
  },
  {
   "cell_type": "code",
   "execution_count": 3,
   "id": "f956f281",
   "metadata": {
    "execution": {
     "iopub.execute_input": "2023-02-18T09:11:04.378166Z",
     "iopub.status.busy": "2023-02-18T09:11:04.377371Z",
     "iopub.status.idle": "2023-02-18T09:11:04.405389Z",
     "shell.execute_reply": "2023-02-18T09:11:04.404132Z"
    },
    "papermill": {
     "duration": 0.046895,
     "end_time": "2023-02-18T09:11:04.407869",
     "exception": false,
     "start_time": "2023-02-18T09:11:04.360974",
     "status": "completed"
    },
    "tags": []
   },
   "outputs": [
    {
     "data": {
      "text/html": [
       "<div>\n",
       "<style scoped>\n",
       "    .dataframe tbody tr th:only-of-type {\n",
       "        vertical-align: middle;\n",
       "    }\n",
       "\n",
       "    .dataframe tbody tr th {\n",
       "        vertical-align: top;\n",
       "    }\n",
       "\n",
       "    .dataframe thead th {\n",
       "        text-align: right;\n",
       "    }\n",
       "</style>\n",
       "<table border=\"1\" class=\"dataframe\">\n",
       "  <thead>\n",
       "    <tr style=\"text-align: right;\">\n",
       "      <th></th>\n",
       "      <th>customer_id</th>\n",
       "      <th>customer_unique_id</th>\n",
       "      <th>customer_zip_code_prefix</th>\n",
       "      <th>customer_city</th>\n",
       "      <th>customer_state</th>\n",
       "    </tr>\n",
       "  </thead>\n",
       "  <tbody>\n",
       "    <tr>\n",
       "      <th>76631</th>\n",
       "      <td>73c2d0df55f8431aa5ec63d4e3b7bb63</td>\n",
       "      <td>aa873afe20fc222379673c8b6bcbac45</td>\n",
       "      <td>37653</td>\n",
       "      <td>monte verde</td>\n",
       "      <td>MG</td>\n",
       "    </tr>\n",
       "    <tr>\n",
       "      <th>25377</th>\n",
       "      <td>f9913bc021d14fc9e5a96b3508284589</td>\n",
       "      <td>341c1bfcce15f772ef1c1e93dc360141</td>\n",
       "      <td>2050</td>\n",
       "      <td>sao paulo</td>\n",
       "      <td>SP</td>\n",
       "    </tr>\n",
       "    <tr>\n",
       "      <th>24148</th>\n",
       "      <td>91e69f300d02ffb32f57621542b728c7</td>\n",
       "      <td>41b75c0712e41a7c79c204158ee83f72</td>\n",
       "      <td>13632</td>\n",
       "      <td>pirassununga</td>\n",
       "      <td>SP</td>\n",
       "    </tr>\n",
       "    <tr>\n",
       "      <th>77825</th>\n",
       "      <td>726f28d51b162c746e14553241df9de8</td>\n",
       "      <td>b7d12dd279b98c2d0f8b920052eb2862</td>\n",
       "      <td>13232</td>\n",
       "      <td>campo limpo paulista</td>\n",
       "      <td>SP</td>\n",
       "    </tr>\n",
       "    <tr>\n",
       "      <th>22165</th>\n",
       "      <td>50202490acea34225b1af5cdd25f4326</td>\n",
       "      <td>3be6f224efc657da0b17bf5d287c20eb</td>\n",
       "      <td>12214</td>\n",
       "      <td>sao jose dos campos</td>\n",
       "      <td>SP</td>\n",
       "    </tr>\n",
       "  </tbody>\n",
       "</table>\n",
       "</div>"
      ],
      "text/plain": [
       "                            customer_id                customer_unique_id  \\\n",
       "76631  73c2d0df55f8431aa5ec63d4e3b7bb63  aa873afe20fc222379673c8b6bcbac45   \n",
       "25377  f9913bc021d14fc9e5a96b3508284589  341c1bfcce15f772ef1c1e93dc360141   \n",
       "24148  91e69f300d02ffb32f57621542b728c7  41b75c0712e41a7c79c204158ee83f72   \n",
       "77825  726f28d51b162c746e14553241df9de8  b7d12dd279b98c2d0f8b920052eb2862   \n",
       "22165  50202490acea34225b1af5cdd25f4326  3be6f224efc657da0b17bf5d287c20eb   \n",
       "\n",
       "       customer_zip_code_prefix         customer_city customer_state  \n",
       "76631                     37653           monte verde             MG  \n",
       "25377                      2050             sao paulo             SP  \n",
       "24148                     13632          pirassununga             SP  \n",
       "77825                     13232  campo limpo paulista             SP  \n",
       "22165                     12214   sao jose dos campos             SP  "
      ]
     },
     "execution_count": 3,
     "metadata": {},
     "output_type": "execute_result"
    }
   ],
   "source": [
    "customers.sample(5)"
   ]
  },
  {
   "cell_type": "markdown",
   "id": "c73a930a",
   "metadata": {
    "papermill": {
     "duration": 0.015349,
     "end_time": "2023-02-18T09:11:04.438872",
     "exception": false,
     "start_time": "2023-02-18T09:11:04.423523",
     "status": "completed"
    },
    "tags": []
   },
   "source": [
    "check for NULL entries."
   ]
  },
  {
   "cell_type": "code",
   "execution_count": 4,
   "id": "9d8c92ea",
   "metadata": {
    "execution": {
     "iopub.execute_input": "2023-02-18T09:11:04.471627Z",
     "iopub.status.busy": "2023-02-18T09:11:04.471213Z",
     "iopub.status.idle": "2023-02-18T09:11:04.501557Z",
     "shell.execute_reply": "2023-02-18T09:11:04.500270Z"
    },
    "papermill": {
     "duration": 0.049705,
     "end_time": "2023-02-18T09:11:04.504049",
     "exception": false,
     "start_time": "2023-02-18T09:11:04.454344",
     "status": "completed"
    },
    "tags": []
   },
   "outputs": [
    {
     "data": {
      "text/plain": [
       "customer_id                 0.0\n",
       "customer_unique_id          0.0\n",
       "customer_zip_code_prefix    0.0\n",
       "customer_city               0.0\n",
       "customer_state              0.0\n",
       "dtype: float64"
      ]
     },
     "execution_count": 4,
     "metadata": {},
     "output_type": "execute_result"
    }
   ],
   "source": [
    "customers.isna().mean()"
   ]
  },
  {
   "cell_type": "markdown",
   "id": "961cb9f0",
   "metadata": {
    "papermill": {
     "duration": 0.014909,
     "end_time": "2023-02-18T09:11:04.534570",
     "exception": false,
     "start_time": "2023-02-18T09:11:04.519661",
     "status": "completed"
    },
    "tags": []
   },
   "source": [
    "There are duplicate customer_unique_id, because the dataset is per order. Where client_id is the key to the order dataset. Each order has a unique client_id."
   ]
  },
  {
   "cell_type": "code",
   "execution_count": 5,
   "id": "0a4e12f7",
   "metadata": {
    "execution": {
     "iopub.execute_input": "2023-02-18T09:11:04.567172Z",
     "iopub.status.busy": "2023-02-18T09:11:04.566726Z",
     "iopub.status.idle": "2023-02-18T09:11:04.750811Z",
     "shell.execute_reply": "2023-02-18T09:11:04.749573Z"
    },
    "papermill": {
     "duration": 0.203506,
     "end_time": "2023-02-18T09:11:04.753471",
     "exception": false,
     "start_time": "2023-02-18T09:11:04.549965",
     "status": "completed"
    },
    "tags": []
   },
   "outputs": [
    {
     "data": {
      "text/plain": [
       "customer_unique_id\n",
       "8d50f5eadf50201ccdcedfb9e2ac8455    17\n",
       "3e43e6105506432c953e165fb2acf44c     9\n",
       "6469f99c1f9dfae7733b25662e7f1782     7\n",
       "ca77025e7201e3b30c44b472ff346268     7\n",
       "1b6c7548a2a1f9037c1fd3ddfed95f33     7\n",
       "                                    ..\n",
       "5657dfebff5868c4dc7e8355fea865c4     1\n",
       "5657596addb4d7b07b32cd330614bdf8     1\n",
       "5656eb169546146caeab56c3ffc3d268     1\n",
       "5656a8fabc8629ff96b2bc14f8c09a27     1\n",
       "ffffd2657e2aad2907e67c3e9daecbeb     1\n",
       "Length: 96096, dtype: int64"
      ]
     },
     "execution_count": 5,
     "metadata": {},
     "output_type": "execute_result"
    }
   ],
   "source": [
    "customers.groupby('customer_unique_id').size().sort_values(ascending=False)"
   ]
  },
  {
   "cell_type": "markdown",
   "id": "497bfaf4",
   "metadata": {
    "papermill": {
     "duration": 0.015094,
     "end_time": "2023-02-18T09:11:04.784268",
     "exception": false,
     "start_time": "2023-02-18T09:11:04.769174",
     "status": "completed"
    },
    "tags": []
   },
   "source": [
    "**Geolocation:**"
   ]
  },
  {
   "cell_type": "code",
   "execution_count": 6,
   "id": "e1a55a5f",
   "metadata": {
    "execution": {
     "iopub.execute_input": "2023-02-18T09:11:04.817409Z",
     "iopub.status.busy": "2023-02-18T09:11:04.816611Z",
     "iopub.status.idle": "2023-02-18T09:11:04.874928Z",
     "shell.execute_reply": "2023-02-18T09:11:04.873261Z"
    },
    "papermill": {
     "duration": 0.077795,
     "end_time": "2023-02-18T09:11:04.877424",
     "exception": false,
     "start_time": "2023-02-18T09:11:04.799629",
     "status": "completed"
    },
    "tags": []
   },
   "outputs": [
    {
     "data": {
      "text/html": [
       "<div>\n",
       "<style scoped>\n",
       "    .dataframe tbody tr th:only-of-type {\n",
       "        vertical-align: middle;\n",
       "    }\n",
       "\n",
       "    .dataframe tbody tr th {\n",
       "        vertical-align: top;\n",
       "    }\n",
       "\n",
       "    .dataframe thead th {\n",
       "        text-align: right;\n",
       "    }\n",
       "</style>\n",
       "<table border=\"1\" class=\"dataframe\">\n",
       "  <thead>\n",
       "    <tr style=\"text-align: right;\">\n",
       "      <th></th>\n",
       "      <th>geolocation_zip_code_prefix</th>\n",
       "      <th>geolocation_lat</th>\n",
       "      <th>geolocation_lng</th>\n",
       "      <th>geolocation_city</th>\n",
       "      <th>geolocation_state</th>\n",
       "    </tr>\n",
       "  </thead>\n",
       "  <tbody>\n",
       "    <tr>\n",
       "      <th>811233</th>\n",
       "      <td>76340</td>\n",
       "      <td>-15.354233</td>\n",
       "      <td>-49.700578</td>\n",
       "      <td>carmo do rio verde</td>\n",
       "      <td>GO</td>\n",
       "    </tr>\n",
       "    <tr>\n",
       "      <th>463226</th>\n",
       "      <td>23087</td>\n",
       "      <td>-22.888432</td>\n",
       "      <td>-43.559825</td>\n",
       "      <td>rio de janeiro</td>\n",
       "      <td>RJ</td>\n",
       "    </tr>\n",
       "    <tr>\n",
       "      <th>914321</th>\n",
       "      <td>88519</td>\n",
       "      <td>-27.777300</td>\n",
       "      <td>-50.304584</td>\n",
       "      <td>lages</td>\n",
       "      <td>SC</td>\n",
       "    </tr>\n",
       "    <tr>\n",
       "      <th>45103</th>\n",
       "      <td>3152</td>\n",
       "      <td>-23.593473</td>\n",
       "      <td>-46.580962</td>\n",
       "      <td>sao paulo</td>\n",
       "      <td>SP</td>\n",
       "    </tr>\n",
       "    <tr>\n",
       "      <th>696133</th>\n",
       "      <td>46205</td>\n",
       "      <td>-14.548651</td>\n",
       "      <td>-41.938645</td>\n",
       "      <td>guajeru</td>\n",
       "      <td>BA</td>\n",
       "    </tr>\n",
       "  </tbody>\n",
       "</table>\n",
       "</div>"
      ],
      "text/plain": [
       "        geolocation_zip_code_prefix  geolocation_lat  geolocation_lng  \\\n",
       "811233                        76340       -15.354233       -49.700578   \n",
       "463226                        23087       -22.888432       -43.559825   \n",
       "914321                        88519       -27.777300       -50.304584   \n",
       "45103                          3152       -23.593473       -46.580962   \n",
       "696133                        46205       -14.548651       -41.938645   \n",
       "\n",
       "          geolocation_city geolocation_state  \n",
       "811233  carmo do rio verde                GO  \n",
       "463226      rio de janeiro                RJ  \n",
       "914321               lages                SC  \n",
       "45103            sao paulo                SP  \n",
       "696133             guajeru                BA  "
      ]
     },
     "execution_count": 6,
     "metadata": {},
     "output_type": "execute_result"
    }
   ],
   "source": [
    "geolocation.sample(5)"
   ]
  },
  {
   "cell_type": "markdown",
   "id": "236266f4",
   "metadata": {
    "papermill": {
     "duration": 0.015488,
     "end_time": "2023-02-18T09:11:04.908779",
     "exception": false,
     "start_time": "2023-02-18T09:11:04.893291",
     "status": "completed"
    },
    "tags": []
   },
   "source": [
    "There are no null values for geolocation"
   ]
  },
  {
   "cell_type": "code",
   "execution_count": 7,
   "id": "abafe113",
   "metadata": {
    "execution": {
     "iopub.execute_input": "2023-02-18T09:11:04.942231Z",
     "iopub.status.busy": "2023-02-18T09:11:04.941789Z",
     "iopub.status.idle": "2023-02-18T09:11:05.046484Z",
     "shell.execute_reply": "2023-02-18T09:11:05.045262Z"
    },
    "papermill": {
     "duration": 0.124539,
     "end_time": "2023-02-18T09:11:05.049041",
     "exception": false,
     "start_time": "2023-02-18T09:11:04.924502",
     "status": "completed"
    },
    "tags": []
   },
   "outputs": [
    {
     "data": {
      "text/plain": [
       "geolocation_zip_code_prefix    0.0\n",
       "geolocation_lat                0.0\n",
       "geolocation_lng                0.0\n",
       "geolocation_city               0.0\n",
       "geolocation_state              0.0\n",
       "dtype: float64"
      ]
     },
     "execution_count": 7,
     "metadata": {},
     "output_type": "execute_result"
    }
   ],
   "source": [
    "geolocation.isna().mean()"
   ]
  },
  {
   "cell_type": "markdown",
   "id": "05ea4934",
   "metadata": {
    "papermill": {
     "duration": 0.015468,
     "end_time": "2023-02-18T09:11:05.080353",
     "exception": false,
     "start_time": "2023-02-18T09:11:05.064885",
     "status": "completed"
    },
    "tags": []
   },
   "source": [
    "As we can see, there are duplicates of the city with accents in the names."
   ]
  },
  {
   "cell_type": "code",
   "execution_count": 8,
   "id": "2814a8cd",
   "metadata": {
    "execution": {
     "iopub.execute_input": "2023-02-18T09:11:05.113953Z",
     "iopub.status.busy": "2023-02-18T09:11:05.113512Z",
     "iopub.status.idle": "2023-02-18T09:11:05.223154Z",
     "shell.execute_reply": "2023-02-18T09:11:05.221665Z"
    },
    "papermill": {
     "duration": 0.129484,
     "end_time": "2023-02-18T09:11:05.225715",
     "exception": false,
     "start_time": "2023-02-18T09:11:05.096231",
     "status": "completed"
    },
    "tags": []
   },
   "outputs": [
    {
     "data": {
      "text/plain": [
       "array(['sao paulo', 'são paulo', 'sao bernardo do campo', ..., 'ciríaco',\n",
       "       'estação', 'vila lângaro'], dtype=object)"
      ]
     },
     "execution_count": 8,
     "metadata": {},
     "output_type": "execute_result"
    }
   ],
   "source": [
    "geolocation['geolocation_city'].unique()"
   ]
  },
  {
   "cell_type": "code",
   "execution_count": 9,
   "id": "e2151054",
   "metadata": {
    "execution": {
     "iopub.execute_input": "2023-02-18T09:11:05.259575Z",
     "iopub.status.busy": "2023-02-18T09:11:05.259170Z",
     "iopub.status.idle": "2023-02-18T09:11:05.264740Z",
     "shell.execute_reply": "2023-02-18T09:11:05.263494Z"
    },
    "papermill": {
     "duration": 0.025525,
     "end_time": "2023-02-18T09:11:05.267353",
     "exception": false,
     "start_time": "2023-02-18T09:11:05.241828",
     "status": "completed"
    },
    "tags": []
   },
   "outputs": [],
   "source": [
    "def pretty_string(column):\n",
    "    column_space = ' '.join(column.split())\n",
    "    return unidecode.unidecode(column_space.lower())"
   ]
  },
  {
   "cell_type": "code",
   "execution_count": 10,
   "id": "8550590b",
   "metadata": {
    "execution": {
     "iopub.execute_input": "2023-02-18T09:11:05.301332Z",
     "iopub.status.busy": "2023-02-18T09:11:05.300934Z",
     "iopub.status.idle": "2023-02-18T09:11:06.804280Z",
     "shell.execute_reply": "2023-02-18T09:11:06.803009Z"
    },
    "papermill": {
     "duration": 1.523568,
     "end_time": "2023-02-18T09:11:06.807255",
     "exception": false,
     "start_time": "2023-02-18T09:11:05.283687",
     "status": "completed"
    },
    "tags": []
   },
   "outputs": [],
   "source": [
    "geolocation['geolocation_city'] = geolocation['geolocation_city'].apply(pretty_string)"
   ]
  },
  {
   "cell_type": "markdown",
   "id": "e7769ce3",
   "metadata": {
    "papermill": {
     "duration": 0.016264,
     "end_time": "2023-02-18T09:11:06.842005",
     "exception": false,
     "start_time": "2023-02-18T09:11:06.825741",
     "status": "completed"
    },
    "tags": []
   },
   "source": [
    "As we can see, there is the same zip code prefix with more than 1 location. This problem may have occurred because only the zip code prefix was kept. To solve this problem we will use the median value of the latitude and longitude of each point"
   ]
  },
  {
   "cell_type": "code",
   "execution_count": 11,
   "id": "2c6c2cf4",
   "metadata": {
    "execution": {
     "iopub.execute_input": "2023-02-18T09:11:06.884393Z",
     "iopub.status.busy": "2023-02-18T09:11:06.884001Z",
     "iopub.status.idle": "2023-02-18T09:11:06.937150Z",
     "shell.execute_reply": "2023-02-18T09:11:06.935853Z"
    },
    "papermill": {
     "duration": 0.079513,
     "end_time": "2023-02-18T09:11:06.940161",
     "exception": false,
     "start_time": "2023-02-18T09:11:06.860648",
     "status": "completed"
    },
    "tags": []
   },
   "outputs": [
    {
     "data": {
      "text/plain": [
       "geolocation_zip_code_prefix\n",
       "24220    1146\n",
       "24230    1102\n",
       "38400     965\n",
       "35500     907\n",
       "11680     879\n",
       "         ... \n",
       "20056       1\n",
       "76370       1\n",
       "63012       1\n",
       "76372       1\n",
       "32635       1\n",
       "Length: 19015, dtype: int64"
      ]
     },
     "execution_count": 11,
     "metadata": {},
     "output_type": "execute_result"
    }
   ],
   "source": [
    "geolocation.groupby('geolocation_zip_code_prefix').size().sort_values(ascending=False)"
   ]
  },
  {
   "cell_type": "code",
   "execution_count": 12,
   "id": "c4a4044c",
   "metadata": {
    "execution": {
     "iopub.execute_input": "2023-02-18T09:11:06.979428Z",
     "iopub.status.busy": "2023-02-18T09:11:06.978574Z",
     "iopub.status.idle": "2023-02-18T09:11:06.994515Z",
     "shell.execute_reply": "2023-02-18T09:11:06.993334Z"
    },
    "papermill": {
     "duration": 0.036148,
     "end_time": "2023-02-18T09:11:06.996917",
     "exception": false,
     "start_time": "2023-02-18T09:11:06.960769",
     "status": "completed"
    },
    "tags": []
   },
   "outputs": [
    {
     "data": {
      "text/html": [
       "<div>\n",
       "<style scoped>\n",
       "    .dataframe tbody tr th:only-of-type {\n",
       "        vertical-align: middle;\n",
       "    }\n",
       "\n",
       "    .dataframe tbody tr th {\n",
       "        vertical-align: top;\n",
       "    }\n",
       "\n",
       "    .dataframe thead th {\n",
       "        text-align: right;\n",
       "    }\n",
       "</style>\n",
       "<table border=\"1\" class=\"dataframe\">\n",
       "  <thead>\n",
       "    <tr style=\"text-align: right;\">\n",
       "      <th></th>\n",
       "      <th>geolocation_zip_code_prefix</th>\n",
       "      <th>geolocation_lat</th>\n",
       "      <th>geolocation_lng</th>\n",
       "      <th>geolocation_city</th>\n",
       "      <th>geolocation_state</th>\n",
       "    </tr>\n",
       "  </thead>\n",
       "  <tbody>\n",
       "    <tr>\n",
       "      <th>470805</th>\n",
       "      <td>24220</td>\n",
       "      <td>-22.905817</td>\n",
       "      <td>-43.106989</td>\n",
       "      <td>niteroi</td>\n",
       "      <td>RJ</td>\n",
       "    </tr>\n",
       "    <tr>\n",
       "      <th>470811</th>\n",
       "      <td>24220</td>\n",
       "      <td>-22.902306</td>\n",
       "      <td>-43.112545</td>\n",
       "      <td>niteroi</td>\n",
       "      <td>RJ</td>\n",
       "    </tr>\n",
       "    <tr>\n",
       "      <th>470812</th>\n",
       "      <td>24220</td>\n",
       "      <td>-22.904567</td>\n",
       "      <td>-43.110491</td>\n",
       "      <td>niteroi</td>\n",
       "      <td>RJ</td>\n",
       "    </tr>\n",
       "    <tr>\n",
       "      <th>470820</th>\n",
       "      <td>24220</td>\n",
       "      <td>-22.902575</td>\n",
       "      <td>-43.109192</td>\n",
       "      <td>niteroi</td>\n",
       "      <td>RJ</td>\n",
       "    </tr>\n",
       "    <tr>\n",
       "      <th>470821</th>\n",
       "      <td>24220</td>\n",
       "      <td>-22.907500</td>\n",
       "      <td>-43.106170</td>\n",
       "      <td>niteroi</td>\n",
       "      <td>RJ</td>\n",
       "    </tr>\n",
       "  </tbody>\n",
       "</table>\n",
       "</div>"
      ],
      "text/plain": [
       "        geolocation_zip_code_prefix  geolocation_lat  geolocation_lng  \\\n",
       "470805                        24220       -22.905817       -43.106989   \n",
       "470811                        24220       -22.902306       -43.112545   \n",
       "470812                        24220       -22.904567       -43.110491   \n",
       "470820                        24220       -22.902575       -43.109192   \n",
       "470821                        24220       -22.907500       -43.106170   \n",
       "\n",
       "       geolocation_city geolocation_state  \n",
       "470805          niteroi                RJ  \n",
       "470811          niteroi                RJ  \n",
       "470812          niteroi                RJ  \n",
       "470820          niteroi                RJ  \n",
       "470821          niteroi                RJ  "
      ]
     },
     "execution_count": 12,
     "metadata": {},
     "output_type": "execute_result"
    }
   ],
   "source": [
    "geolocation[geolocation['geolocation_zip_code_prefix'] == 24220].head()    "
   ]
  },
  {
   "cell_type": "markdown",
   "id": "ef4d817c",
   "metadata": {
    "papermill": {
     "duration": 0.016277,
     "end_time": "2023-02-18T09:11:07.029592",
     "exception": false,
     "start_time": "2023-02-18T09:11:07.013315",
     "status": "completed"
    },
    "tags": []
   },
   "source": [
    "There are 8 zip codes with two or more states. To solve this problem, we will count the states by zip code and use the majority state for this zip code."
   ]
  },
  {
   "cell_type": "code",
   "execution_count": 13,
   "id": "bcec2c24",
   "metadata": {
    "execution": {
     "iopub.execute_input": "2023-02-18T09:11:07.064978Z",
     "iopub.status.busy": "2023-02-18T09:11:07.064167Z",
     "iopub.status.idle": "2023-02-18T09:11:07.393066Z",
     "shell.execute_reply": "2023-02-18T09:11:07.392087Z"
    },
    "papermill": {
     "duration": 0.349445,
     "end_time": "2023-02-18T09:11:07.395717",
     "exception": false,
     "start_time": "2023-02-18T09:11:07.046272",
     "status": "completed"
    },
    "tags": []
   },
   "outputs": [],
   "source": [
    "other_state_geolocation = geolocation.groupby(['geolocation_zip_code_prefix'])['geolocation_state'].nunique().reset_index(name='count')\n",
    "other_state_geolocation[other_state_geolocation['count']>= 2].shape\n",
    "max_state = geolocation.groupby(['geolocation_zip_code_prefix','geolocation_state']).size().reset_index(name='count').drop_duplicates(subset = 'geolocation_zip_code_prefix').drop('count',axis=1)"
   ]
  },
  {
   "cell_type": "code",
   "execution_count": 14,
   "id": "889db0fc",
   "metadata": {
    "execution": {
     "iopub.execute_input": "2023-02-18T09:11:07.430663Z",
     "iopub.status.busy": "2023-02-18T09:11:07.429860Z",
     "iopub.status.idle": "2023-02-18T09:11:07.800570Z",
     "shell.execute_reply": "2023-02-18T09:11:07.799314Z"
    },
    "papermill": {
     "duration": 0.391513,
     "end_time": "2023-02-18T09:11:07.803589",
     "exception": false,
     "start_time": "2023-02-18T09:11:07.412076",
     "status": "completed"
    },
    "tags": []
   },
   "outputs": [],
   "source": [
    "geolocation_silver = geolocation.groupby(['geolocation_zip_code_prefix','geolocation_city','geolocation_state'])[['geolocation_lat','geolocation_lng']].median().reset_index()\n",
    "geolocation_silver = geolocation_silver.merge(max_state,on=['geolocation_zip_code_prefix','geolocation_state'],how='inner')"
   ]
  },
  {
   "cell_type": "code",
   "execution_count": 15,
   "id": "a86cb588",
   "metadata": {
    "execution": {
     "iopub.execute_input": "2023-02-18T09:11:07.838301Z",
     "iopub.status.busy": "2023-02-18T09:11:07.837887Z",
     "iopub.status.idle": "2023-02-18T09:11:07.907384Z",
     "shell.execute_reply": "2023-02-18T09:11:07.906000Z"
    },
    "papermill": {
     "duration": 0.090515,
     "end_time": "2023-02-18T09:11:07.910677",
     "exception": false,
     "start_time": "2023-02-18T09:11:07.820162",
     "status": "completed"
    },
    "tags": []
   },
   "outputs": [],
   "source": [
    "customers_silver = customers.merge(geolocation_silver,left_on='customer_zip_code_prefix',right_on='geolocation_zip_code_prefix',how='inner')"
   ]
  },
  {
   "cell_type": "markdown",
   "id": "43db8c60",
   "metadata": {
    "papermill": {
     "duration": 0.016121,
     "end_time": "2023-02-18T09:11:07.943338",
     "exception": false,
     "start_time": "2023-02-18T09:11:07.927217",
     "status": "completed"
    },
    "tags": []
   },
   "source": [
    "<a id='orders'></a>\n",
    "## Orders"
   ]
  },
  {
   "cell_type": "code",
   "execution_count": 16,
   "id": "945d575a",
   "metadata": {
    "execution": {
     "iopub.execute_input": "2023-02-18T09:11:07.977714Z",
     "iopub.status.busy": "2023-02-18T09:11:07.977298Z",
     "iopub.status.idle": "2023-02-18T09:11:07.996557Z",
     "shell.execute_reply": "2023-02-18T09:11:07.995358Z"
    },
    "papermill": {
     "duration": 0.039349,
     "end_time": "2023-02-18T09:11:07.999055",
     "exception": false,
     "start_time": "2023-02-18T09:11:07.959706",
     "status": "completed"
    },
    "tags": []
   },
   "outputs": [
    {
     "data": {
      "text/html": [
       "<div>\n",
       "<style scoped>\n",
       "    .dataframe tbody tr th:only-of-type {\n",
       "        vertical-align: middle;\n",
       "    }\n",
       "\n",
       "    .dataframe tbody tr th {\n",
       "        vertical-align: top;\n",
       "    }\n",
       "\n",
       "    .dataframe thead th {\n",
       "        text-align: right;\n",
       "    }\n",
       "</style>\n",
       "<table border=\"1\" class=\"dataframe\">\n",
       "  <thead>\n",
       "    <tr style=\"text-align: right;\">\n",
       "      <th></th>\n",
       "      <th>order_id</th>\n",
       "      <th>order_item_id</th>\n",
       "      <th>product_id</th>\n",
       "      <th>seller_id</th>\n",
       "      <th>shipping_limit_date</th>\n",
       "      <th>price</th>\n",
       "      <th>freight_value</th>\n",
       "    </tr>\n",
       "  </thead>\n",
       "  <tbody>\n",
       "    <tr>\n",
       "      <th>70075</th>\n",
       "      <td>9fe33416283b9bfb49fcdea66c415777</td>\n",
       "      <td>1</td>\n",
       "      <td>52c80cedd4e90108bf4fa6a206ef6b03</td>\n",
       "      <td>a1043bafd471dff536d0c462352beb48</td>\n",
       "      <td>2018-01-17 22:29:45</td>\n",
       "      <td>179.00</td>\n",
       "      <td>51.12</td>\n",
       "    </tr>\n",
       "    <tr>\n",
       "      <th>6303</th>\n",
       "      <td>0e578caa492e82502cbc4abe275042a2</td>\n",
       "      <td>1</td>\n",
       "      <td>44feb28a74abb0f2f303412d60160750</td>\n",
       "      <td>72bc2cce903c872fe376a8faaa81d237</td>\n",
       "      <td>2018-08-14 17:30:27</td>\n",
       "      <td>159.00</td>\n",
       "      <td>19.21</td>\n",
       "    </tr>\n",
       "    <tr>\n",
       "      <th>63992</th>\n",
       "      <td>922a3f761407bb26eca665bf67d18744</td>\n",
       "      <td>1</td>\n",
       "      <td>b804bd070b03e990e6db597e36634cdd</td>\n",
       "      <td>1cbd50a8c52e6cf8e315c5709fab386f</td>\n",
       "      <td>2018-03-12 03:49:00</td>\n",
       "      <td>19.80</td>\n",
       "      <td>34.15</td>\n",
       "    </tr>\n",
       "    <tr>\n",
       "      <th>52281</th>\n",
       "      <td>770ad5eec9763dbf6201f544768ed27b</td>\n",
       "      <td>1</td>\n",
       "      <td>90887320b08d184abea26df9426a01e9</td>\n",
       "      <td>0b35c634521043bf4b47e21547b99ab5</td>\n",
       "      <td>2018-03-07 20:50:31</td>\n",
       "      <td>49.99</td>\n",
       "      <td>16.93</td>\n",
       "    </tr>\n",
       "    <tr>\n",
       "      <th>18891</th>\n",
       "      <td>2b6908be5cc36a149ec9cb0bcdaf3866</td>\n",
       "      <td>1</td>\n",
       "      <td>e357a8646a17191f03fd9f833a0fa29b</td>\n",
       "      <td>98115075dd26cb8835946fc6086f5d30</td>\n",
       "      <td>2018-04-20 00:13:18</td>\n",
       "      <td>98.99</td>\n",
       "      <td>9.05</td>\n",
       "    </tr>\n",
       "  </tbody>\n",
       "</table>\n",
       "</div>"
      ],
      "text/plain": [
       "                               order_id  order_item_id  \\\n",
       "70075  9fe33416283b9bfb49fcdea66c415777              1   \n",
       "6303   0e578caa492e82502cbc4abe275042a2              1   \n",
       "63992  922a3f761407bb26eca665bf67d18744              1   \n",
       "52281  770ad5eec9763dbf6201f544768ed27b              1   \n",
       "18891  2b6908be5cc36a149ec9cb0bcdaf3866              1   \n",
       "\n",
       "                             product_id                         seller_id  \\\n",
       "70075  52c80cedd4e90108bf4fa6a206ef6b03  a1043bafd471dff536d0c462352beb48   \n",
       "6303   44feb28a74abb0f2f303412d60160750  72bc2cce903c872fe376a8faaa81d237   \n",
       "63992  b804bd070b03e990e6db597e36634cdd  1cbd50a8c52e6cf8e315c5709fab386f   \n",
       "52281  90887320b08d184abea26df9426a01e9  0b35c634521043bf4b47e21547b99ab5   \n",
       "18891  e357a8646a17191f03fd9f833a0fa29b  98115075dd26cb8835946fc6086f5d30   \n",
       "\n",
       "       shipping_limit_date   price  freight_value  \n",
       "70075  2018-01-17 22:29:45  179.00          51.12  \n",
       "6303   2018-08-14 17:30:27  159.00          19.21  \n",
       "63992  2018-03-12 03:49:00   19.80          34.15  \n",
       "52281  2018-03-07 20:50:31   49.99          16.93  \n",
       "18891  2018-04-20 00:13:18   98.99           9.05  "
      ]
     },
     "execution_count": 16,
     "metadata": {},
     "output_type": "execute_result"
    }
   ],
   "source": [
    "order_items.sample(5)"
   ]
  },
  {
   "cell_type": "markdown",
   "id": "cfac88bb",
   "metadata": {
    "papermill": {
     "duration": 0.016355,
     "end_time": "2023-02-18T09:11:08.032115",
     "exception": false,
     "start_time": "2023-02-18T09:11:08.015760",
     "status": "completed"
    },
    "tags": []
   },
   "source": [
    "There are no null values for order_items"
   ]
  },
  {
   "cell_type": "code",
   "execution_count": 17,
   "id": "9ec44f6f",
   "metadata": {
    "execution": {
     "iopub.execute_input": "2023-02-18T09:11:08.067249Z",
     "iopub.status.busy": "2023-02-18T09:11:08.066823Z",
     "iopub.status.idle": "2023-02-18T09:11:08.101464Z",
     "shell.execute_reply": "2023-02-18T09:11:08.100178Z"
    },
    "papermill": {
     "duration": 0.055025,
     "end_time": "2023-02-18T09:11:08.103997",
     "exception": false,
     "start_time": "2023-02-18T09:11:08.048972",
     "status": "completed"
    },
    "tags": []
   },
   "outputs": [
    {
     "data": {
      "text/plain": [
       "order_id               0.0\n",
       "order_item_id          0.0\n",
       "product_id             0.0\n",
       "seller_id              0.0\n",
       "shipping_limit_date    0.0\n",
       "price                  0.0\n",
       "freight_value          0.0\n",
       "dtype: float64"
      ]
     },
     "execution_count": 17,
     "metadata": {},
     "output_type": "execute_result"
    }
   ],
   "source": [
    "order_items.isna().mean()"
   ]
  },
  {
   "cell_type": "markdown",
   "id": "1bf37486",
   "metadata": {
    "papermill": {
     "duration": 0.017034,
     "end_time": "2023-02-18T09:11:08.137894",
     "exception": false,
     "start_time": "2023-02-18T09:11:08.120860",
     "status": "completed"
    },
    "tags": []
   },
   "source": [
    "As we can see, an order can have more than one product."
   ]
  },
  {
   "cell_type": "code",
   "execution_count": 18,
   "id": "a216d7b1",
   "metadata": {
    "execution": {
     "iopub.execute_input": "2023-02-18T09:11:08.173039Z",
     "iopub.status.busy": "2023-02-18T09:11:08.172578Z",
     "iopub.status.idle": "2023-02-18T09:11:08.276928Z",
     "shell.execute_reply": "2023-02-18T09:11:08.275708Z"
    },
    "papermill": {
     "duration": 0.125008,
     "end_time": "2023-02-18T09:11:08.279567",
     "exception": false,
     "start_time": "2023-02-18T09:11:08.154559",
     "status": "completed"
    },
    "tags": []
   },
   "outputs": [
    {
     "data": {
      "text/plain": [
       "order_id\n",
       "8272b63d03f5f79c56e9e4120aec44ef    21\n",
       "1b15974a0141d54e36626dca3fdc731a    20\n",
       "ab14fdcfbe524636d65ee38360e22ce8    20\n",
       "9ef13efd6949e4573a18964dd1bbe7f5    15\n",
       "428a2f660dc84138d969ccd69a0ab6d5    15\n",
       "                                    ..\n",
       "5a0911d70c1f85d3bed0df1bf693a6dd     1\n",
       "5a082b558a3798d3e36d93bfa8ca1eae     1\n",
       "5a07264682e0b8fbb3f166edbbffc6e8     1\n",
       "5a071192a28951b76774e5a760c8c9b7     1\n",
       "fffe41c64501cc87c801fd61db3f6244     1\n",
       "Length: 98666, dtype: int64"
      ]
     },
     "execution_count": 18,
     "metadata": {},
     "output_type": "execute_result"
    }
   ],
   "source": [
    "order_items.groupby('order_id').size().sort_values(ascending=False)"
   ]
  },
  {
   "cell_type": "markdown",
   "id": "81119821",
   "metadata": {
    "papermill": {
     "duration": 0.016621,
     "end_time": "2023-02-18T09:11:08.313234",
     "exception": false,
     "start_time": "2023-02-18T09:11:08.296613",
     "status": "completed"
    },
    "tags": []
   },
   "source": [
    "Since we have more than 1 product per order, we need to sum the price and the shipping value and get the maximum value of the shipping_limit_date for analysis."
   ]
  },
  {
   "cell_type": "code",
   "execution_count": 19,
   "id": "14b2124f",
   "metadata": {
    "execution": {
     "iopub.execute_input": "2023-02-18T09:11:08.349502Z",
     "iopub.status.busy": "2023-02-18T09:11:08.349059Z",
     "iopub.status.idle": "2023-02-18T09:11:16.629390Z",
     "shell.execute_reply": "2023-02-18T09:11:16.628200Z"
    },
    "papermill": {
     "duration": 8.302357,
     "end_time": "2023-02-18T09:11:16.632468",
     "exception": false,
     "start_time": "2023-02-18T09:11:08.330111",
     "status": "completed"
    },
    "tags": []
   },
   "outputs": [],
   "source": [
    "order_items_silver = order_items.groupby('order_id').agg({'price':sum,'freight_value':sum,'shipping_limit_date':max }).reset_index()"
   ]
  },
  {
   "cell_type": "markdown",
   "id": "cda7e53e",
   "metadata": {
    "papermill": {
     "duration": 0.016548,
     "end_time": "2023-02-18T09:11:16.666339",
     "exception": false,
     "start_time": "2023-02-18T09:11:16.649791",
     "status": "completed"
    },
    "tags": []
   },
   "source": [
    "As you can see, we have some outliers. how come the shipping is over R\\\\$ 500 and which order costs over R\\\\$4000?"
   ]
  },
  {
   "cell_type": "code",
   "execution_count": 20,
   "id": "2f45403c",
   "metadata": {
    "execution": {
     "iopub.execute_input": "2023-02-18T09:11:16.701884Z",
     "iopub.status.busy": "2023-02-18T09:11:16.701443Z",
     "iopub.status.idle": "2023-02-18T09:11:17.340654Z",
     "shell.execute_reply": "2023-02-18T09:11:17.339280Z"
    },
    "papermill": {
     "duration": 0.660181,
     "end_time": "2023-02-18T09:11:17.343370",
     "exception": false,
     "start_time": "2023-02-18T09:11:16.683189",
     "status": "completed"
    },
    "tags": []
   },
   "outputs": [
    {
     "data": {
      "text/plain": [
       "<AxesSubplot:xlabel='price', ylabel='freight_value'>"
      ]
     },
     "execution_count": 20,
     "metadata": {},
     "output_type": "execute_result"
    },
    {
     "data": {
      "image/png": "[encoded data removed]",
      "text/plain": [
       "<Figure size 640x480 with 1 Axes>"
      ]
     },
     "metadata": {},
     "output_type": "display_data"
    }
   ],
   "source": [
    "sns.scatterplot(x='price',y='freight_value',data=order_items_silver)"
   ]
  },
  {
   "cell_type": "markdown",
   "id": "ba864005",
   "metadata": {
    "papermill": {
     "duration": 0.017466,
     "end_time": "2023-02-18T09:11:17.378861",
     "exception": false,
     "start_time": "2023-02-18T09:11:17.361395",
     "status": "completed"
    },
    "tags": []
   },
   "source": [
    "We decided to remove orders with a price over R$ 5000 and for the freight value we used logic as a value that is far away from 99% percentile."
   ]
  },
  {
   "cell_type": "code",
   "execution_count": 21,
   "id": "bf1a0a57",
   "metadata": {
    "execution": {
     "iopub.execute_input": "2023-02-18T09:11:17.416024Z",
     "iopub.status.busy": "2023-02-18T09:11:17.415590Z",
     "iopub.status.idle": "2023-02-18T09:11:17.453698Z",
     "shell.execute_reply": "2023-02-18T09:11:17.452495Z"
    },
    "papermill": {
     "duration": 0.060406,
     "end_time": "2023-02-18T09:11:17.456870",
     "exception": false,
     "start_time": "2023-02-18T09:11:17.396464",
     "status": "completed"
    },
    "tags": []
   },
   "outputs": [
    {
     "data": {
      "text/html": [
       "<div>\n",
       "<style scoped>\n",
       "    .dataframe tbody tr th:only-of-type {\n",
       "        vertical-align: middle;\n",
       "    }\n",
       "\n",
       "    .dataframe tbody tr th {\n",
       "        vertical-align: top;\n",
       "    }\n",
       "\n",
       "    .dataframe thead th {\n",
       "        text-align: right;\n",
       "    }\n",
       "</style>\n",
       "<table border=\"1\" class=\"dataframe\">\n",
       "  <thead>\n",
       "    <tr style=\"text-align: right;\">\n",
       "      <th></th>\n",
       "      <th>price</th>\n",
       "      <th>freight_value</th>\n",
       "    </tr>\n",
       "  </thead>\n",
       "  <tbody>\n",
       "    <tr>\n",
       "      <th>count</th>\n",
       "      <td>98666.000000</td>\n",
       "      <td>98666.000000</td>\n",
       "    </tr>\n",
       "    <tr>\n",
       "      <th>mean</th>\n",
       "      <td>137.754076</td>\n",
       "      <td>22.823562</td>\n",
       "    </tr>\n",
       "    <tr>\n",
       "      <th>std</th>\n",
       "      <td>210.645145</td>\n",
       "      <td>21.650909</td>\n",
       "    </tr>\n",
       "    <tr>\n",
       "      <th>min</th>\n",
       "      <td>0.850000</td>\n",
       "      <td>0.000000</td>\n",
       "    </tr>\n",
       "    <tr>\n",
       "      <th>25%</th>\n",
       "      <td>45.900000</td>\n",
       "      <td>13.850000</td>\n",
       "    </tr>\n",
       "    <tr>\n",
       "      <th>50%</th>\n",
       "      <td>86.900000</td>\n",
       "      <td>17.170000</td>\n",
       "    </tr>\n",
       "    <tr>\n",
       "      <th>75%</th>\n",
       "      <td>149.900000</td>\n",
       "      <td>24.040000</td>\n",
       "    </tr>\n",
       "    <tr>\n",
       "      <th>max</th>\n",
       "      <td>13440.000000</td>\n",
       "      <td>1794.960000</td>\n",
       "    </tr>\n",
       "  </tbody>\n",
       "</table>\n",
       "</div>"
      ],
      "text/plain": [
       "              price  freight_value\n",
       "count  98666.000000   98666.000000\n",
       "mean     137.754076      22.823562\n",
       "std      210.645145      21.650909\n",
       "min        0.850000       0.000000\n",
       "25%       45.900000      13.850000\n",
       "50%       86.900000      17.170000\n",
       "75%      149.900000      24.040000\n",
       "max    13440.000000    1794.960000"
      ]
     },
     "execution_count": 21,
     "metadata": {},
     "output_type": "execute_result"
    }
   ],
   "source": [
    "order_items_silver.describe()"
   ]
  },
  {
   "cell_type": "code",
   "execution_count": 22,
   "id": "00d5838b",
   "metadata": {
    "execution": {
     "iopub.execute_input": "2023-02-18T09:11:17.495091Z",
     "iopub.status.busy": "2023-02-18T09:11:17.494366Z",
     "iopub.status.idle": "2023-02-18T09:11:17.510615Z",
     "shell.execute_reply": "2023-02-18T09:11:17.509733Z"
    },
    "papermill": {
     "duration": 0.038021,
     "end_time": "2023-02-18T09:11:17.513129",
     "exception": false,
     "start_time": "2023-02-18T09:11:17.475108",
     "status": "completed"
    },
    "tags": []
   },
   "outputs": [],
   "source": [
    "percentil_freight_value = order_items_silver['freight_value'].quantile(0.99)\n",
    "order_items_silver = order_items_silver[(order_items_silver['price'] <= 5000) & (order_items_silver['freight_value'] <= percentil_freight_value)]"
   ]
  },
  {
   "cell_type": "markdown",
   "id": "5f514615",
   "metadata": {
    "papermill": {
     "duration": 0.018311,
     "end_time": "2023-02-18T09:11:17.549904",
     "exception": false,
     "start_time": "2023-02-18T09:11:17.531593",
     "status": "completed"
    },
    "tags": []
   },
   "source": [
    " As we can see, the average order price is R\\\\$ 132 and 50% of orders cost less than R\\\\$85. The average freight value is R\\\\$21.41 and 50% of the orders have a freight value of R\\\\$ 17."
   ]
  },
  {
   "cell_type": "code",
   "execution_count": 23,
   "id": "cc73a56a",
   "metadata": {
    "execution": {
     "iopub.execute_input": "2023-02-18T09:11:17.589085Z",
     "iopub.status.busy": "2023-02-18T09:11:17.588347Z",
     "iopub.status.idle": "2023-02-18T09:11:17.614836Z",
     "shell.execute_reply": "2023-02-18T09:11:17.613570Z"
    },
    "papermill": {
     "duration": 0.049171,
     "end_time": "2023-02-18T09:11:17.617718",
     "exception": false,
     "start_time": "2023-02-18T09:11:17.568547",
     "status": "completed"
    },
    "tags": []
   },
   "outputs": [
    {
     "data": {
      "text/html": [
       "<div>\n",
       "<style scoped>\n",
       "    .dataframe tbody tr th:only-of-type {\n",
       "        vertical-align: middle;\n",
       "    }\n",
       "\n",
       "    .dataframe tbody tr th {\n",
       "        vertical-align: top;\n",
       "    }\n",
       "\n",
       "    .dataframe thead th {\n",
       "        text-align: right;\n",
       "    }\n",
       "</style>\n",
       "<table border=\"1\" class=\"dataframe\">\n",
       "  <thead>\n",
       "    <tr style=\"text-align: right;\">\n",
       "      <th></th>\n",
       "      <th>price</th>\n",
       "      <th>freight_value</th>\n",
       "    </tr>\n",
       "  </thead>\n",
       "  <tbody>\n",
       "    <tr>\n",
       "      <th>count</th>\n",
       "      <td>97679.000000</td>\n",
       "      <td>97679.000000</td>\n",
       "    </tr>\n",
       "    <tr>\n",
       "      <th>mean</th>\n",
       "      <td>132.046700</td>\n",
       "      <td>21.423227</td>\n",
       "    </tr>\n",
       "    <tr>\n",
       "      <th>std</th>\n",
       "      <td>185.015685</td>\n",
       "      <td>14.133667</td>\n",
       "    </tr>\n",
       "    <tr>\n",
       "      <th>min</th>\n",
       "      <td>0.850000</td>\n",
       "      <td>0.000000</td>\n",
       "    </tr>\n",
       "    <tr>\n",
       "      <th>25%</th>\n",
       "      <td>45.900000</td>\n",
       "      <td>13.790000</td>\n",
       "    </tr>\n",
       "    <tr>\n",
       "      <th>50%</th>\n",
       "      <td>85.000000</td>\n",
       "      <td>17.070000</td>\n",
       "    </tr>\n",
       "    <tr>\n",
       "      <th>75%</th>\n",
       "      <td>149.900000</td>\n",
       "      <td>23.700000</td>\n",
       "    </tr>\n",
       "    <tr>\n",
       "      <th>max</th>\n",
       "      <td>4690.000000</td>\n",
       "      <td>104.980000</td>\n",
       "    </tr>\n",
       "  </tbody>\n",
       "</table>\n",
       "</div>"
      ],
      "text/plain": [
       "              price  freight_value\n",
       "count  97679.000000   97679.000000\n",
       "mean     132.046700      21.423227\n",
       "std      185.015685      14.133667\n",
       "min        0.850000       0.000000\n",
       "25%       45.900000      13.790000\n",
       "50%       85.000000      17.070000\n",
       "75%      149.900000      23.700000\n",
       "max     4690.000000     104.980000"
      ]
     },
     "execution_count": 23,
     "metadata": {},
     "output_type": "execute_result"
    }
   ],
   "source": [
    "order_items_silver.describe()"
   ]
  },
  {
   "cell_type": "code",
   "execution_count": 24,
   "id": "c38acfe0",
   "metadata": {
    "execution": {
     "iopub.execute_input": "2023-02-18T09:11:17.656684Z",
     "iopub.status.busy": "2023-02-18T09:11:17.655884Z",
     "iopub.status.idle": "2023-02-18T09:11:17.672857Z",
     "shell.execute_reply": "2023-02-18T09:11:17.671618Z"
    },
    "papermill": {
     "duration": 0.03942,
     "end_time": "2023-02-18T09:11:17.675406",
     "exception": false,
     "start_time": "2023-02-18T09:11:17.635986",
     "status": "completed"
    },
    "tags": []
   },
   "outputs": [
    {
     "data": {
      "text/html": [
       "<div>\n",
       "<style scoped>\n",
       "    .dataframe tbody tr th:only-of-type {\n",
       "        vertical-align: middle;\n",
       "    }\n",
       "\n",
       "    .dataframe tbody tr th {\n",
       "        vertical-align: top;\n",
       "    }\n",
       "\n",
       "    .dataframe thead th {\n",
       "        text-align: right;\n",
       "    }\n",
       "</style>\n",
       "<table border=\"1\" class=\"dataframe\">\n",
       "  <thead>\n",
       "    <tr style=\"text-align: right;\">\n",
       "      <th></th>\n",
       "      <th>order_id</th>\n",
       "      <th>price</th>\n",
       "      <th>freight_value</th>\n",
       "      <th>shipping_limit_date</th>\n",
       "    </tr>\n",
       "  </thead>\n",
       "  <tbody>\n",
       "    <tr>\n",
       "      <th>0</th>\n",
       "      <td>00010242fe8c5a6d1ba2dd792cb16214</td>\n",
       "      <td>58.90</td>\n",
       "      <td>13.29</td>\n",
       "      <td>2017-09-19 09:45:35</td>\n",
       "    </tr>\n",
       "    <tr>\n",
       "      <th>1</th>\n",
       "      <td>00018f77f2f0320c557190d7a144bdd3</td>\n",
       "      <td>239.90</td>\n",
       "      <td>19.93</td>\n",
       "      <td>2017-05-03 11:05:13</td>\n",
       "    </tr>\n",
       "    <tr>\n",
       "      <th>2</th>\n",
       "      <td>000229ec398224ef6ca0657da4fc703e</td>\n",
       "      <td>199.00</td>\n",
       "      <td>17.87</td>\n",
       "      <td>2018-01-18 14:48:30</td>\n",
       "    </tr>\n",
       "    <tr>\n",
       "      <th>3</th>\n",
       "      <td>00024acbcdf0a6daa1e931b038114c75</td>\n",
       "      <td>12.99</td>\n",
       "      <td>12.79</td>\n",
       "      <td>2018-08-15 10:10:18</td>\n",
       "    </tr>\n",
       "    <tr>\n",
       "      <th>4</th>\n",
       "      <td>00042b26cf59d7ce69dfabb4e55b4fd9</td>\n",
       "      <td>199.90</td>\n",
       "      <td>18.14</td>\n",
       "      <td>2017-02-13 13:57:51</td>\n",
       "    </tr>\n",
       "    <tr>\n",
       "      <th>...</th>\n",
       "      <td>...</td>\n",
       "      <td>...</td>\n",
       "      <td>...</td>\n",
       "      <td>...</td>\n",
       "    </tr>\n",
       "    <tr>\n",
       "      <th>98661</th>\n",
       "      <td>fffc94f6ce00a00581880bf54a75a037</td>\n",
       "      <td>299.99</td>\n",
       "      <td>43.41</td>\n",
       "      <td>2018-05-02 04:11:01</td>\n",
       "    </tr>\n",
       "    <tr>\n",
       "      <th>98662</th>\n",
       "      <td>fffcd46ef2263f404302a634eb57f7eb</td>\n",
       "      <td>350.00</td>\n",
       "      <td>36.53</td>\n",
       "      <td>2018-07-20 04:31:48</td>\n",
       "    </tr>\n",
       "    <tr>\n",
       "      <th>98663</th>\n",
       "      <td>fffce4705a9662cd70adb13d4a31832d</td>\n",
       "      <td>99.90</td>\n",
       "      <td>16.95</td>\n",
       "      <td>2017-10-30 17:14:25</td>\n",
       "    </tr>\n",
       "    <tr>\n",
       "      <th>98664</th>\n",
       "      <td>fffe18544ffabc95dfada21779c9644f</td>\n",
       "      <td>55.99</td>\n",
       "      <td>8.72</td>\n",
       "      <td>2017-08-21 00:04:32</td>\n",
       "    </tr>\n",
       "    <tr>\n",
       "      <th>98665</th>\n",
       "      <td>fffe41c64501cc87c801fd61db3f6244</td>\n",
       "      <td>43.00</td>\n",
       "      <td>12.79</td>\n",
       "      <td>2018-06-12 17:10:13</td>\n",
       "    </tr>\n",
       "  </tbody>\n",
       "</table>\n",
       "<p>97679 rows × 4 columns</p>\n",
       "</div>"
      ],
      "text/plain": [
       "                               order_id   price  freight_value  \\\n",
       "0      00010242fe8c5a6d1ba2dd792cb16214   58.90          13.29   \n",
       "1      00018f77f2f0320c557190d7a144bdd3  239.90          19.93   \n",
       "2      000229ec398224ef6ca0657da4fc703e  199.00          17.87   \n",
       "3      00024acbcdf0a6daa1e931b038114c75   12.99          12.79   \n",
       "4      00042b26cf59d7ce69dfabb4e55b4fd9  199.90          18.14   \n",
       "...                                 ...     ...            ...   \n",
       "98661  fffc94f6ce00a00581880bf54a75a037  299.99          43.41   \n",
       "98662  fffcd46ef2263f404302a634eb57f7eb  350.00          36.53   \n",
       "98663  fffce4705a9662cd70adb13d4a31832d   99.90          16.95   \n",
       "98664  fffe18544ffabc95dfada21779c9644f   55.99           8.72   \n",
       "98665  fffe41c64501cc87c801fd61db3f6244   43.00          12.79   \n",
       "\n",
       "       shipping_limit_date  \n",
       "0      2017-09-19 09:45:35  \n",
       "1      2017-05-03 11:05:13  \n",
       "2      2018-01-18 14:48:30  \n",
       "3      2018-08-15 10:10:18  \n",
       "4      2017-02-13 13:57:51  \n",
       "...                    ...  \n",
       "98661  2018-05-02 04:11:01  \n",
       "98662  2018-07-20 04:31:48  \n",
       "98663  2017-10-30 17:14:25  \n",
       "98664  2017-08-21 00:04:32  \n",
       "98665  2018-06-12 17:10:13  \n",
       "\n",
       "[97679 rows x 4 columns]"
      ]
     },
     "execution_count": 24,
     "metadata": {},
     "output_type": "execute_result"
    }
   ],
   "source": [
    "order_items_silver"
   ]
  },
  {
   "cell_type": "code",
   "execution_count": 25,
   "id": "1ad53506",
   "metadata": {
    "execution": {
     "iopub.execute_input": "2023-02-18T09:11:17.714068Z",
     "iopub.status.busy": "2023-02-18T09:11:17.713621Z",
     "iopub.status.idle": "2023-02-18T09:11:17.764997Z",
     "shell.execute_reply": "2023-02-18T09:11:17.763674Z"
    },
    "papermill": {
     "duration": 0.073667,
     "end_time": "2023-02-18T09:11:17.767502",
     "exception": false,
     "start_time": "2023-02-18T09:11:17.693835",
     "status": "completed"
    },
    "tags": []
   },
   "outputs": [
    {
     "name": "stdout",
     "output_type": "stream",
     "text": [
      "<class 'pandas.core.frame.DataFrame'>\n",
      "RangeIndex: 99441 entries, 0 to 99440\n",
      "Data columns (total 8 columns):\n",
      " #   Column                         Non-Null Count  Dtype \n",
      "---  ------                         --------------  ----- \n",
      " 0   order_id                       99441 non-null  object\n",
      " 1   customer_id                    99441 non-null  object\n",
      " 2   order_status                   99441 non-null  object\n",
      " 3   order_purchase_timestamp       99441 non-null  object\n",
      " 4   order_approved_at              99281 non-null  object\n",
      " 5   order_delivered_carrier_date   97658 non-null  object\n",
      " 6   order_delivered_customer_date  96476 non-null  object\n",
      " 7   order_estimated_delivery_date  99441 non-null  object\n",
      "dtypes: object(8)\n",
      "memory usage: 6.1+ MB\n"
     ]
    }
   ],
   "source": [
    "orders.info()"
   ]
  },
  {
   "cell_type": "code",
   "execution_count": 26,
   "id": "e76f8d2c",
   "metadata": {
    "execution": {
     "iopub.execute_input": "2023-02-18T09:11:17.806330Z",
     "iopub.status.busy": "2023-02-18T09:11:17.805495Z",
     "iopub.status.idle": "2023-02-18T09:11:17.960210Z",
     "shell.execute_reply": "2023-02-18T09:11:17.958988Z"
    },
    "papermill": {
     "duration": 0.177547,
     "end_time": "2023-02-18T09:11:17.963250",
     "exception": false,
     "start_time": "2023-02-18T09:11:17.785703",
     "status": "completed"
    },
    "tags": []
   },
   "outputs": [],
   "source": [
    "columns_timestamp = ['order_purchase_timestamp','order_approved_at',\n",
    "                     'order_delivered_carrier_date', 'order_delivered_customer_date', 'order_estimated_delivery_date']\n",
    "for column in columns_timestamp:\n",
    "    orders[column] = pd.to_datetime(orders[column])"
   ]
  },
  {
   "cell_type": "code",
   "execution_count": 27,
   "id": "e2faf4b6",
   "metadata": {
    "execution": {
     "iopub.execute_input": "2023-02-18T09:11:18.001874Z",
     "iopub.status.busy": "2023-02-18T09:11:18.001431Z",
     "iopub.status.idle": "2023-02-18T09:11:18.011961Z",
     "shell.execute_reply": "2023-02-18T09:11:18.010763Z"
    },
    "papermill": {
     "duration": 0.032949,
     "end_time": "2023-02-18T09:11:18.014565",
     "exception": false,
     "start_time": "2023-02-18T09:11:17.981616",
     "status": "completed"
    },
    "tags": []
   },
   "outputs": [],
   "source": [
    "orders['diff_delivery_days'] = (orders['order_estimated_delivery_date'] - orders['order_delivered_customer_date']).dt.days"
   ]
  },
  {
   "cell_type": "markdown",
   "id": "cdadec80",
   "metadata": {
    "papermill": {
     "duration": 0.018026,
     "end_time": "2023-02-18T09:11:18.051277",
     "exception": false,
     "start_time": "2023-02-18T09:11:18.033251",
     "status": "completed"
    },
    "tags": []
   },
   "source": [
    "Only 7,87% is above of estimated delivery"
   ]
  },
  {
   "cell_type": "code",
   "execution_count": 28,
   "id": "47269534",
   "metadata": {
    "execution": {
     "iopub.execute_input": "2023-02-18T09:11:18.089976Z",
     "iopub.status.busy": "2023-02-18T09:11:18.089534Z",
     "iopub.status.idle": "2023-02-18T09:11:18.103730Z",
     "shell.execute_reply": "2023-02-18T09:11:18.102570Z"
    },
    "papermill": {
     "duration": 0.036606,
     "end_time": "2023-02-18T09:11:18.106181",
     "exception": false,
     "start_time": "2023-02-18T09:11:18.069575",
     "status": "completed"
    },
    "tags": []
   },
   "outputs": [
    {
     "data": {
      "text/plain": [
       "diff_delivery_days\n",
       "False    91614\n",
       "True      7827\n",
       "dtype: int64"
      ]
     },
     "execution_count": 28,
     "metadata": {},
     "output_type": "execute_result"
    }
   ],
   "source": [
    "orders.groupby(orders['diff_delivery_days'] < 0).size()"
   ]
  },
  {
   "cell_type": "markdown",
   "id": "ddf11a2a",
   "metadata": {
    "papermill": {
     "duration": 0.018963,
     "end_time": "2023-02-18T09:11:18.143843",
     "exception": false,
     "start_time": "2023-02-18T09:11:18.124880",
     "status": "completed"
    },
    "tags": []
   },
   "source": [
    "As we can see, the average difference between the estimated delivery and the actual delivery is 10 days, which is a bit high. Another fact is that an order was delivery 6 month later and other order was a high estimated date."
   ]
  },
  {
   "cell_type": "code",
   "execution_count": 29,
   "id": "8750d5ad",
   "metadata": {
    "execution": {
     "iopub.execute_input": "2023-02-18T09:11:18.183468Z",
     "iopub.status.busy": "2023-02-18T09:11:18.182367Z",
     "iopub.status.idle": "2023-02-18T09:11:20.373208Z",
     "shell.execute_reply": "2023-02-18T09:11:20.371987Z"
    },
    "papermill": {
     "duration": 2.213435,
     "end_time": "2023-02-18T09:11:20.375889",
     "exception": false,
     "start_time": "2023-02-18T09:11:18.162454",
     "status": "completed"
    },
    "tags": []
   },
   "outputs": [
    {
     "data": {
      "text/plain": [
       "<AxesSubplot:xlabel='diff_delivery_days', ylabel='Count'>"
      ]
     },
     "execution_count": 29,
     "metadata": {},
     "output_type": "execute_result"
    },
    {
     "data": {
      "image/png": "[encoded data removed]",
      "text/plain": [
       "<Figure size 640x480 with 1 Axes>"
      ]
     },
     "metadata": {},
     "output_type": "display_data"
    }
   ],
   "source": [
    "# print(orders['diff_delivery_days'].describe())\n",
    "sns.histplot(x='diff_delivery_days', data=orders, kde=True)"
   ]
  },
  {
   "cell_type": "markdown",
   "id": "8973043d",
   "metadata": {
    "papermill": {
     "duration": 0.018533,
     "end_time": "2023-02-18T09:11:20.413466",
     "exception": false,
     "start_time": "2023-02-18T09:11:20.394933",
     "status": "completed"
    },
    "tags": []
   },
   "source": [
    "We will remove the max and min value of difference."
   ]
  },
  {
   "cell_type": "code",
   "execution_count": 30,
   "id": "be13da76",
   "metadata": {
    "execution": {
     "iopub.execute_input": "2023-02-18T09:11:20.454566Z",
     "iopub.status.busy": "2023-02-18T09:11:20.453271Z",
     "iopub.status.idle": "2023-02-18T09:11:20.507544Z",
     "shell.execute_reply": "2023-02-18T09:11:20.506584Z"
    },
    "papermill": {
     "duration": 0.077069,
     "end_time": "2023-02-18T09:11:20.510148",
     "exception": false,
     "start_time": "2023-02-18T09:11:20.433079",
     "status": "completed"
    },
    "tags": []
   },
   "outputs": [
    {
     "data": {
      "text/html": [
       "<div>\n",
       "<style scoped>\n",
       "    .dataframe tbody tr th:only-of-type {\n",
       "        vertical-align: middle;\n",
       "    }\n",
       "\n",
       "    .dataframe tbody tr th {\n",
       "        vertical-align: top;\n",
       "    }\n",
       "\n",
       "    .dataframe thead th {\n",
       "        text-align: right;\n",
       "    }\n",
       "</style>\n",
       "<table border=\"1\" class=\"dataframe\">\n",
       "  <thead>\n",
       "    <tr style=\"text-align: right;\">\n",
       "      <th></th>\n",
       "      <th>order_id</th>\n",
       "      <th>customer_id</th>\n",
       "      <th>order_status</th>\n",
       "      <th>order_purchase_timestamp</th>\n",
       "      <th>order_approved_at</th>\n",
       "      <th>order_delivered_carrier_date</th>\n",
       "      <th>order_delivered_customer_date</th>\n",
       "      <th>order_estimated_delivery_date</th>\n",
       "      <th>diff_delivery_days</th>\n",
       "    </tr>\n",
       "  </thead>\n",
       "  <tbody>\n",
       "    <tr>\n",
       "      <th>0</th>\n",
       "      <td>e481f51cbdc54678b7cc49136f2d6af7</td>\n",
       "      <td>9ef432eb6251297304e76186b10a928d</td>\n",
       "      <td>delivered</td>\n",
       "      <td>2017-10-02 10:56:33</td>\n",
       "      <td>2017-10-02 11:07:15</td>\n",
       "      <td>2017-10-04 19:55:00</td>\n",
       "      <td>2017-10-10 21:25:13</td>\n",
       "      <td>2017-10-18</td>\n",
       "      <td>7.0</td>\n",
       "    </tr>\n",
       "    <tr>\n",
       "      <th>1</th>\n",
       "      <td>53cdb2fc8bc7dce0b6741e2150273451</td>\n",
       "      <td>b0830fb4747a6c6d20dea0b8c802d7ef</td>\n",
       "      <td>delivered</td>\n",
       "      <td>2018-07-24 20:41:37</td>\n",
       "      <td>2018-07-26 03:24:27</td>\n",
       "      <td>2018-07-26 14:31:00</td>\n",
       "      <td>2018-08-07 15:27:45</td>\n",
       "      <td>2018-08-13</td>\n",
       "      <td>5.0</td>\n",
       "    </tr>\n",
       "    <tr>\n",
       "      <th>2</th>\n",
       "      <td>47770eb9100c2d0c44946d9cf07ec65d</td>\n",
       "      <td>41ce2a54c0b03bf3443c3d931a367089</td>\n",
       "      <td>delivered</td>\n",
       "      <td>2018-08-08 08:38:49</td>\n",
       "      <td>2018-08-08 08:55:23</td>\n",
       "      <td>2018-08-08 13:50:00</td>\n",
       "      <td>2018-08-17 18:06:29</td>\n",
       "      <td>2018-09-04</td>\n",
       "      <td>17.0</td>\n",
       "    </tr>\n",
       "    <tr>\n",
       "      <th>3</th>\n",
       "      <td>949d5b44dbf5de918fe9c16f97b45f8a</td>\n",
       "      <td>f88197465ea7920adcdbec7375364d82</td>\n",
       "      <td>delivered</td>\n",
       "      <td>2017-11-18 19:28:06</td>\n",
       "      <td>2017-11-18 19:45:59</td>\n",
       "      <td>2017-11-22 13:39:59</td>\n",
       "      <td>2017-12-02 00:28:42</td>\n",
       "      <td>2017-12-15</td>\n",
       "      <td>12.0</td>\n",
       "    </tr>\n",
       "    <tr>\n",
       "      <th>4</th>\n",
       "      <td>ad21c59c0840e6cb83a9ceb5573f8159</td>\n",
       "      <td>8ab97904e6daea8866dbdbc4fb7aad2c</td>\n",
       "      <td>delivered</td>\n",
       "      <td>2018-02-13 21:18:39</td>\n",
       "      <td>2018-02-13 22:20:29</td>\n",
       "      <td>2018-02-14 19:46:34</td>\n",
       "      <td>2018-02-16 18:17:02</td>\n",
       "      <td>2018-02-26</td>\n",
       "      <td>9.0</td>\n",
       "    </tr>\n",
       "    <tr>\n",
       "      <th>...</th>\n",
       "      <td>...</td>\n",
       "      <td>...</td>\n",
       "      <td>...</td>\n",
       "      <td>...</td>\n",
       "      <td>...</td>\n",
       "      <td>...</td>\n",
       "      <td>...</td>\n",
       "      <td>...</td>\n",
       "      <td>...</td>\n",
       "    </tr>\n",
       "    <tr>\n",
       "      <th>99436</th>\n",
       "      <td>9c5dedf39a927c1b2549525ed64a053c</td>\n",
       "      <td>39bd1228ee8140590ac3aca26f2dfe00</td>\n",
       "      <td>delivered</td>\n",
       "      <td>2017-03-09 09:54:05</td>\n",
       "      <td>2017-03-09 09:54:05</td>\n",
       "      <td>2017-03-10 11:18:03</td>\n",
       "      <td>2017-03-17 15:08:01</td>\n",
       "      <td>2017-03-28</td>\n",
       "      <td>10.0</td>\n",
       "    </tr>\n",
       "    <tr>\n",
       "      <th>99437</th>\n",
       "      <td>63943bddc261676b46f01ca7ac2f7bd8</td>\n",
       "      <td>1fca14ff2861355f6e5f14306ff977a7</td>\n",
       "      <td>delivered</td>\n",
       "      <td>2018-02-06 12:58:58</td>\n",
       "      <td>2018-02-06 13:10:37</td>\n",
       "      <td>2018-02-07 23:22:42</td>\n",
       "      <td>2018-02-28 17:37:56</td>\n",
       "      <td>2018-03-02</td>\n",
       "      <td>1.0</td>\n",
       "    </tr>\n",
       "    <tr>\n",
       "      <th>99438</th>\n",
       "      <td>83c1379a015df1e13d02aae0204711ab</td>\n",
       "      <td>1aa71eb042121263aafbe80c1b562c9c</td>\n",
       "      <td>delivered</td>\n",
       "      <td>2017-08-27 14:46:43</td>\n",
       "      <td>2017-08-27 15:04:16</td>\n",
       "      <td>2017-08-28 20:52:26</td>\n",
       "      <td>2017-09-21 11:24:17</td>\n",
       "      <td>2017-09-27</td>\n",
       "      <td>5.0</td>\n",
       "    </tr>\n",
       "    <tr>\n",
       "      <th>99439</th>\n",
       "      <td>11c177c8e97725db2631073c19f07b62</td>\n",
       "      <td>b331b74b18dc79bcdf6532d51e1637c1</td>\n",
       "      <td>delivered</td>\n",
       "      <td>2018-01-08 21:28:27</td>\n",
       "      <td>2018-01-08 21:36:21</td>\n",
       "      <td>2018-01-12 15:35:03</td>\n",
       "      <td>2018-01-25 23:32:54</td>\n",
       "      <td>2018-02-15</td>\n",
       "      <td>20.0</td>\n",
       "    </tr>\n",
       "    <tr>\n",
       "      <th>99440</th>\n",
       "      <td>66dea50a8b16d9b4dee7af250b4be1a5</td>\n",
       "      <td>edb027a75a1449115f6b43211ae02a24</td>\n",
       "      <td>delivered</td>\n",
       "      <td>2018-03-08 20:57:30</td>\n",
       "      <td>2018-03-09 11:20:28</td>\n",
       "      <td>2018-03-09 22:11:59</td>\n",
       "      <td>2018-03-16 13:08:30</td>\n",
       "      <td>2018-04-03</td>\n",
       "      <td>17.0</td>\n",
       "    </tr>\n",
       "  </tbody>\n",
       "</table>\n",
       "<p>96474 rows × 9 columns</p>\n",
       "</div>"
      ],
      "text/plain": [
       "                               order_id                       customer_id  \\\n",
       "0      e481f51cbdc54678b7cc49136f2d6af7  9ef432eb6251297304e76186b10a928d   \n",
       "1      53cdb2fc8bc7dce0b6741e2150273451  b0830fb4747a6c6d20dea0b8c802d7ef   \n",
       "2      47770eb9100c2d0c44946d9cf07ec65d  41ce2a54c0b03bf3443c3d931a367089   \n",
       "3      949d5b44dbf5de918fe9c16f97b45f8a  f88197465ea7920adcdbec7375364d82   \n",
       "4      ad21c59c0840e6cb83a9ceb5573f8159  8ab97904e6daea8866dbdbc4fb7aad2c   \n",
       "...                                 ...                               ...   \n",
       "99436  9c5dedf39a927c1b2549525ed64a053c  39bd1228ee8140590ac3aca26f2dfe00   \n",
       "99437  63943bddc261676b46f01ca7ac2f7bd8  1fca14ff2861355f6e5f14306ff977a7   \n",
       "99438  83c1379a015df1e13d02aae0204711ab  1aa71eb042121263aafbe80c1b562c9c   \n",
       "99439  11c177c8e97725db2631073c19f07b62  b331b74b18dc79bcdf6532d51e1637c1   \n",
       "99440  66dea50a8b16d9b4dee7af250b4be1a5  edb027a75a1449115f6b43211ae02a24   \n",
       "\n",
       "      order_status order_purchase_timestamp   order_approved_at  \\\n",
       "0        delivered      2017-10-02 10:56:33 2017-10-02 11:07:15   \n",
       "1        delivered      2018-07-24 20:41:37 2018-07-26 03:24:27   \n",
       "2        delivered      2018-08-08 08:38:49 2018-08-08 08:55:23   \n",
       "3        delivered      2017-11-18 19:28:06 2017-11-18 19:45:59   \n",
       "4        delivered      2018-02-13 21:18:39 2018-02-13 22:20:29   \n",
       "...            ...                      ...                 ...   \n",
       "99436    delivered      2017-03-09 09:54:05 2017-03-09 09:54:05   \n",
       "99437    delivered      2018-02-06 12:58:58 2018-02-06 13:10:37   \n",
       "99438    delivered      2017-08-27 14:46:43 2017-08-27 15:04:16   \n",
       "99439    delivered      2018-01-08 21:28:27 2018-01-08 21:36:21   \n",
       "99440    delivered      2018-03-08 20:57:30 2018-03-09 11:20:28   \n",
       "\n",
       "      order_delivered_carrier_date order_delivered_customer_date  \\\n",
       "0              2017-10-04 19:55:00           2017-10-10 21:25:13   \n",
       "1              2018-07-26 14:31:00           2018-08-07 15:27:45   \n",
       "2              2018-08-08 13:50:00           2018-08-17 18:06:29   \n",
       "3              2017-11-22 13:39:59           2017-12-02 00:28:42   \n",
       "4              2018-02-14 19:46:34           2018-02-16 18:17:02   \n",
       "...                            ...                           ...   \n",
       "99436          2017-03-10 11:18:03           2017-03-17 15:08:01   \n",
       "99437          2018-02-07 23:22:42           2018-02-28 17:37:56   \n",
       "99438          2017-08-28 20:52:26           2017-09-21 11:24:17   \n",
       "99439          2018-01-12 15:35:03           2018-01-25 23:32:54   \n",
       "99440          2018-03-09 22:11:59           2018-03-16 13:08:30   \n",
       "\n",
       "      order_estimated_delivery_date  diff_delivery_days  \n",
       "0                        2017-10-18                 7.0  \n",
       "1                        2018-08-13                 5.0  \n",
       "2                        2018-09-04                17.0  \n",
       "3                        2017-12-15                12.0  \n",
       "4                        2018-02-26                 9.0  \n",
       "...                             ...                 ...  \n",
       "99436                    2017-03-28                10.0  \n",
       "99437                    2018-03-02                 1.0  \n",
       "99438                    2017-09-27                 5.0  \n",
       "99439                    2018-02-15                20.0  \n",
       "99440                    2018-04-03                17.0  \n",
       "\n",
       "[96474 rows x 9 columns]"
      ]
     },
     "execution_count": 30,
     "metadata": {},
     "output_type": "execute_result"
    }
   ],
   "source": [
    "orders[(orders['diff_delivery_days'] > min(orders['diff_delivery_days'])) & (orders['diff_delivery_days'] < max(orders['diff_delivery_days']))]"
   ]
  },
  {
   "cell_type": "code",
   "execution_count": 31,
   "id": "51cbbcc5",
   "metadata": {
    "execution": {
     "iopub.execute_input": "2023-02-18T09:11:20.551599Z",
     "iopub.status.busy": "2023-02-18T09:11:20.550256Z",
     "iopub.status.idle": "2023-02-18T09:11:20.670480Z",
     "shell.execute_reply": "2023-02-18T09:11:20.669494Z"
    },
    "papermill": {
     "duration": 0.1436,
     "end_time": "2023-02-18T09:11:20.673118",
     "exception": false,
     "start_time": "2023-02-18T09:11:20.529518",
     "status": "completed"
    },
    "tags": []
   },
   "outputs": [],
   "source": [
    "orders_silver = orders.merge(order_items_silver,on='order_id',how='inner')"
   ]
  },
  {
   "cell_type": "code",
   "execution_count": 32,
   "id": "42a4af82",
   "metadata": {
    "execution": {
     "iopub.execute_input": "2023-02-18T09:11:20.714812Z",
     "iopub.status.busy": "2023-02-18T09:11:20.713549Z",
     "iopub.status.idle": "2023-02-18T09:11:20.722832Z",
     "shell.execute_reply": "2023-02-18T09:11:20.721366Z"
    },
    "papermill": {
     "duration": 0.032962,
     "end_time": "2023-02-18T09:11:20.725561",
     "exception": false,
     "start_time": "2023-02-18T09:11:20.692599",
     "status": "completed"
    },
    "tags": []
   },
   "outputs": [],
   "source": [
    "def plot_ts_decompose(decompose,figsize=(12,8)):\n",
    "    fig, ax = plt.subplots(4,1,figsize=figsize)\n",
    "    sns.lineplot(data=decompose.observed,x=decompose.observed.index,y=decompose.observed,ax=ax[0])\n",
    "    sns.lineplot(data=decompose.trend,x=decompose.trend.index,y=decompose.trend,ax=ax[1])\n",
    "    sns.lineplot(data=decompose.seasonal,x=decompose.seasonal.index,y=decompose.seasonal,ax=ax[2])\n",
    "    sns.lineplot(data=decompose.resid,x=decompose.resid.index,y=decompose.resid,ax=ax[3])\n",
    "    plt.tight_layout()"
   ]
  },
  {
   "cell_type": "markdown",
   "id": "6b11ed8c",
   "metadata": {
    "papermill": {
     "duration": 0.020107,
     "end_time": "2023-02-18T09:11:20.765276",
     "exception": false,
     "start_time": "2023-02-18T09:11:20.745169",
     "status": "completed"
    },
    "tags": []
   },
   "source": [
    "As we can see, there is a seasonality in the series in which in the months of December there is a drop in the purchase of products and in the months of January, March, and May there is an increase. Other fact the series is a trend to incresing."
   ]
  },
  {
   "cell_type": "code",
   "execution_count": 33,
   "id": "d5ab280f",
   "metadata": {
    "execution": {
     "iopub.execute_input": "2023-02-18T09:11:20.805946Z",
     "iopub.status.busy": "2023-02-18T09:11:20.805501Z",
     "iopub.status.idle": "2023-02-18T09:11:21.934615Z",
     "shell.execute_reply": "2023-02-18T09:11:21.933270Z"
    },
    "papermill": {
     "duration": 1.153682,
     "end_time": "2023-02-18T09:11:21.938289",
     "exception": false,
     "start_time": "2023-02-18T09:11:20.784607",
     "status": "completed"
    },
    "tags": []
   },
   "outputs": [
    {
     "name": "stdout",
     "output_type": "stream",
     "text": [
      "month_year_purchase\n",
      "2016-10-01     304\n",
      "2018-03-01    7096\n",
      "2017-06-01    3196\n",
      "2016-09-01       3\n",
      "2017-03-01    2615\n",
      "dtype: int64\n"
     ]
    },
    {
     "data": {
      "image/png": "[encoded data removed]",
      "text/plain": [
       "<Figure size 1200x800 with 4 Axes>"
      ]
     },
     "metadata": {},
     "output_type": "display_data"
    }
   ],
   "source": [
    "orders_silver['month_year_purchase'] = orders_silver['order_purchase_timestamp'].dt.to_period('M')\n",
    "order_purchase_timestamp = orders_silver.groupby('month_year_purchase').size()\n",
    "order_purchase_timestamp.index = order_purchase_timestamp.index.astype('datetime64[ns]')\n",
    "print(order_purchase_timestamp.sample(5))\n",
    "decompose = seasonal_decompose(order_purchase_timestamp,model='additive',period=12, extrapolate_trend=12)\n",
    "plot_ts_decompose(decompose)"
   ]
  },
  {
   "cell_type": "code",
   "execution_count": 34,
   "id": "588089a4",
   "metadata": {
    "execution": {
     "iopub.execute_input": "2023-02-18T09:11:21.985275Z",
     "iopub.status.busy": "2023-02-18T09:11:21.984829Z",
     "iopub.status.idle": "2023-02-18T09:11:22.193955Z",
     "shell.execute_reply": "2023-02-18T09:11:22.192574Z"
    },
    "papermill": {
     "duration": 0.236527,
     "end_time": "2023-02-18T09:11:22.197035",
     "exception": false,
     "start_time": "2023-02-18T09:11:21.960508",
     "status": "completed"
    },
    "tags": []
   },
   "outputs": [],
   "source": [
    "orders_customers = customers.merge(orders_silver, on='customer_id', how='inner')"
   ]
  },
  {
   "cell_type": "code",
   "execution_count": 35,
   "id": "4b0cc34d",
   "metadata": {
    "execution": {
     "iopub.execute_input": "2023-02-18T09:11:22.240819Z",
     "iopub.status.busy": "2023-02-18T09:11:22.240380Z",
     "iopub.status.idle": "2023-02-18T09:11:22.480868Z",
     "shell.execute_reply": "2023-02-18T09:11:22.479564Z"
    },
    "papermill": {
     "duration": 0.266022,
     "end_time": "2023-02-18T09:11:22.484020",
     "exception": false,
     "start_time": "2023-02-18T09:11:22.217998",
     "status": "completed"
    },
    "tags": []
   },
   "outputs": [],
   "source": [
    "max_date = max(orders_customers['order_purchase_timestamp']) + datetime.timedelta(days=1)"
   ]
  },
  {
   "cell_type": "code",
   "execution_count": 36,
   "id": "00e305dd",
   "metadata": {
    "execution": {
     "iopub.execute_input": "2023-02-18T09:11:22.528123Z",
     "iopub.status.busy": "2023-02-18T09:11:22.527032Z",
     "iopub.status.idle": "2023-02-18T09:11:32.950468Z",
     "shell.execute_reply": "2023-02-18T09:11:32.949018Z"
    },
    "papermill": {
     "duration": 10.448879,
     "end_time": "2023-02-18T09:11:32.953621",
     "exception": false,
     "start_time": "2023-02-18T09:11:22.504742",
     "status": "completed"
    },
    "tags": []
   },
   "outputs": [],
   "source": [
    "rfm_data = orders_customers.groupby('customer_unique_id').agg({\n",
    "    'order_purchase_timestamp': lambda x: (max_date - x.max()).days,\n",
    "    'customer_id':'count',\n",
    "    'price':'sum'\n",
    "}).reset_index()\n",
    "rfm_data.columns =['customer_id','recency','frequency','monetary']"
   ]
  },
  {
   "cell_type": "markdown",
   "id": "b8a75197",
   "metadata": {
    "papermill": {
     "duration": 0.020547,
     "end_time": "2023-02-18T09:11:32.995502",
     "exception": false,
     "start_time": "2023-02-18T09:11:32.974955",
     "status": "completed"
    },
    "tags": []
   },
   "source": [
    "Note that the frequency of customers is the big problem for the classification, because only 3% of customers made more than one purchase but is something that's very common in ecommerce."
   ]
  },
  {
   "cell_type": "code",
   "execution_count": 37,
   "id": "6c15ec59",
   "metadata": {
    "execution": {
     "iopub.execute_input": "2023-02-18T09:11:33.039813Z",
     "iopub.status.busy": "2023-02-18T09:11:33.039101Z",
     "iopub.status.idle": "2023-02-18T09:11:33.777283Z",
     "shell.execute_reply": "2023-02-18T09:11:33.776419Z"
    },
    "papermill": {
     "duration": 0.76307,
     "end_time": "2023-02-18T09:11:33.779476",
     "exception": false,
     "start_time": "2023-02-18T09:11:33.016406",
     "status": "completed"
    },
    "tags": []
   },
   "outputs": [
    {
     "name": "stdout",
     "output_type": "stream",
     "text": [
      "0.03034247735162137\n",
      "count    94488.000000\n",
      "mean         1.033771\n",
      "std          0.210110\n",
      "min          1.000000\n",
      "25%          1.000000\n",
      "50%          1.000000\n",
      "75%          1.000000\n",
      "max         16.000000\n",
      "Name: frequency, dtype: float64\n"
     ]
    },
    {
     "data": {
      "text/plain": [
       "<AxesSubplot:xlabel='frequency', ylabel='Count'>"
      ]
     },
     "execution_count": 37,
     "metadata": {},
     "output_type": "execute_result"
    },
    {
     "data": {
      "image/png": "[encoded data removed]",
      "text/plain": [
       "<Figure size 640x480 with 1 Axes>"
      ]
     },
     "metadata": {},
     "output_type": "display_data"
    }
   ],
   "source": [
    "print(rfm_data[rfm_data['frequency']>1].shape[0] / rfm_data.shape[0])\n",
    "print(rfm_data['frequency'].describe())\n",
    "sns.histplot(x='frequency', data=rfm_data, kde=True)"
   ]
  },
  {
   "cell_type": "markdown",
   "id": "23ef992e",
   "metadata": {
    "papermill": {
     "duration": 0.021478,
     "end_time": "2023-02-18T09:11:33.823114",
     "exception": false,
     "start_time": "2023-02-18T09:11:33.801636",
     "status": "completed"
    },
    "tags": []
   },
   "source": [
    "An average monetary customer is R\\\\$136 and 75% of the customers spend less than R\\\\$150 and the maximum was R\\\\$4690."
   ]
  },
  {
   "cell_type": "code",
   "execution_count": 38,
   "id": "03394c27",
   "metadata": {
    "execution": {
     "iopub.execute_input": "2023-02-18T09:11:33.868547Z",
     "iopub.status.busy": "2023-02-18T09:11:33.867864Z",
     "iopub.status.idle": "2023-02-18T09:11:36.603944Z",
     "shell.execute_reply": "2023-02-18T09:11:36.602766Z"
    },
    "papermill": {
     "duration": 2.761829,
     "end_time": "2023-02-18T09:11:36.606534",
     "exception": false,
     "start_time": "2023-02-18T09:11:33.844705",
     "status": "completed"
    },
    "tags": []
   },
   "outputs": [
    {
     "name": "stdout",
     "output_type": "stream",
     "text": [
      "count    94488.000000\n",
      "mean       136.506113\n",
      "std        190.946953\n",
      "min          0.850000\n",
      "25%         47.000000\n",
      "50%         89.000000\n",
      "75%        150.000000\n",
      "max       4690.000000\n",
      "Name: monetary, dtype: float64\n"
     ]
    },
    {
     "data": {
      "text/plain": [
       "<AxesSubplot:xlabel='monetary', ylabel='Count'>"
      ]
     },
     "execution_count": 38,
     "metadata": {},
     "output_type": "execute_result"
    },
    {
     "data": {
      "image/png": "[encoded data removed]",
      "text/plain": [
       "<Figure size 640x480 with 1 Axes>"
      ]
     },
     "metadata": {},
     "output_type": "display_data"
    }
   ],
   "source": [
    "print(rfm_data['monetary'].describe())\n",
    "sns.histplot(x='monetary', data=rfm_data, kde=True)"
   ]
  },
  {
   "cell_type": "markdown",
   "id": "fe140cff",
   "metadata": {
    "papermill": {
     "duration": 0.021929,
     "end_time": "2023-02-18T09:11:36.650563",
     "exception": false,
     "start_time": "2023-02-18T09:11:36.628634",
     "status": "completed"
    },
    "tags": []
   },
   "source": [
    "As we can see the 25% of customers have a recency of 3.9 months with an average of 8 months. With a purchase frequency equivalent to 1 and with this recency this indicates that customers make very specific purchases."
   ]
  },
  {
   "cell_type": "code",
   "execution_count": 39,
   "id": "76762bf0",
   "metadata": {
    "execution": {
     "iopub.execute_input": "2023-02-18T09:11:36.696390Z",
     "iopub.status.busy": "2023-02-18T09:11:36.695939Z",
     "iopub.status.idle": "2023-02-18T09:11:37.512109Z",
     "shell.execute_reply": "2023-02-18T09:11:37.511009Z"
    },
    "papermill": {
     "duration": 0.842086,
     "end_time": "2023-02-18T09:11:37.514662",
     "exception": false,
     "start_time": "2023-02-18T09:11:36.672576",
     "status": "completed"
    },
    "tags": []
   },
   "outputs": [
    {
     "name": "stdout",
     "output_type": "stream",
     "text": [
      "count    94488.000000\n",
      "mean       243.851198\n",
      "std        153.165787\n",
      "min          1.000000\n",
      "25%        120.000000\n",
      "50%        224.000000\n",
      "75%        353.000000\n",
      "max        729.000000\n",
      "Name: recency, dtype: float64\n"
     ]
    },
    {
     "data": {
      "text/plain": [
       "<AxesSubplot:xlabel='recency', ylabel='Count'>"
      ]
     },
     "execution_count": 39,
     "metadata": {},
     "output_type": "execute_result"
    },
    {
     "data": {
      "image/png": "[encoded data removed]",
      "text/plain": [
       "<Figure size 640x480 with 1 Axes>"
      ]
     },
     "metadata": {},
     "output_type": "display_data"
    }
   ],
   "source": [
    "print(rfm_data['recency'].describe())\n",
    "sns.histplot(x='recency', data=rfm_data, kde=True)"
   ]
  },
  {
   "cell_type": "markdown",
   "id": "68f014b9",
   "metadata": {
    "papermill": {
     "duration": 0.023103,
     "end_time": "2023-02-18T09:11:37.573388",
     "exception": false,
     "start_time": "2023-02-18T09:11:37.550285",
     "status": "completed"
    },
    "tags": []
   },
   "source": [
    "<a id='data_insights'></a>\n",
    "\n",
    "**Conclusions:**\n",
    "* There are more customers in the southeast and south of the country. Other information, there are more customers in cities that are capitals (São Paulo, Rio de Janeiro, Porto Alegre and otheres);\n",
    "* The average order price is R\\\\$ 132 and 50% of orders cost less than R\\\\$85. The average freight value is R\\\\$21.41 and 50% of the orders have a freight value of R\\\\$ 17;\n",
    "* The delivery date needs to be revised because the average difference between estimated and actual delivery is 10 days, which is a bit high. Another fact is that only 7.81% of the actual delivery was lower than the estimated delivery;\n",
    "* There is a seasonal buying series in which in the months of December there is a drop in the purchase of products and in the months of January, March and May there is an increase;\n",
    "* Only 3% of customers made more than one purchase;\n",
    "* An average monetary customer is R\\\\$136 and 75% of the customers spend less than R\\\\$150 and the maximum was R\\\\$4690;\n",
    "* The 25% of customers have a recency of 3.9 months with an average of 8 months. With a purchase frequency equivalent to 1 and with this recency this indicates that customers make very specific purchases.\n",
    "\n",
    "<a id='customer_segmentation'></a>\n",
    "## Customer Segmentation\n",
    "\n",
    "As a algorithm the RFM was used, for being an easy-to-understand model.\n",
    "\n",
    "<a id='rfm'></a>\n",
    "The term RFM comes from the junction of three acronyms: Recency, Frequency, and Monetarity, seeking to better understand the customer and verify when was his last purchase, how many times he has bought and how much he has spent with the company.\n",
    "\n",
    "Recency(R) Days since the customer's last purchase\n",
    "Frequency(F) Number of products bought by the customer\n",
    "Monetarity(M) Total spent on purchases\n",
    "\n",
    "Customer Score:\n",
    "\n",
    "The customer score ranges from 1 to 5, where the higher this number, the better. This score is assigned for each acronym independently:\n",
    "\n",
    "* The more recent the customer's purchase the higher the Recency (R) score.\n",
    "* The more purchases the customer makes, the higher the Frequency score (F)\n",
    "* The more the customer spends on purchases, the higher the score the customer will have Monetarity(M)\n",
    "\n",
    "This definition of each score can be given through inference, i.e. some business definition or by quintile.\n",
    "\n",
    "\n",
    "#### Segmentation calculation:\n",
    "\n",
    "The calculation to know which segmentation the customer is in is given by averaging the F and M scores and the separate R value.\n",
    "\n",
    "| Segment Name               | Range of R values | Range of F and M Average |\n",
    "|----------------------------|-------------------|--------------------------|\n",
    "| Champions                  |       4 - 5       |           4 - 5          |\n",
    "| Loyal Customers            |       2 - 5       |           3 - 5          |\n",
    "| Potential Loyalist         |       3 - 5       |           1 - 3          |\n",
    "| New Customers              |       4 - 5       |           0 - 1          |\n",
    "| Promising                  |       3 - 4       |           0 - 1          |\n",
    "| Customers Needing Attetion |       2 - 3       |           2 - 3          |\n",
    "| About to Sleep             |       2 - 3       |           0 - 2          |\n",
    "| At Risk                    |       0 - 2       |           2 - 5          |\n",
    "| Can't Lose Them            |       0 - 1       |           4 - 5          |\n",
    "| Hibernating                |       1 - 2       |           1 - 2          |\n",
    "| Lost                       |       0 - 2       |           0 - 2          |\n",
    "\n",
    "We have only 3% of customers who have made more than one purchase, i.e., we have skewed data. For this problem, we use the k-means algorithm to group the data according to their similar characteristics."
   ]
  },
  {
   "cell_type": "code",
   "execution_count": 40,
   "id": "ea82657b",
   "metadata": {
    "execution": {
     "iopub.execute_input": "2023-02-18T09:11:37.622156Z",
     "iopub.status.busy": "2023-02-18T09:11:37.621594Z",
     "iopub.status.idle": "2023-02-18T09:11:37.633690Z",
     "shell.execute_reply": "2023-02-18T09:11:37.632389Z"
    },
    "papermill": {
     "duration": 0.03974,
     "end_time": "2023-02-18T09:11:37.636171",
     "exception": false,
     "start_time": "2023-02-18T09:11:37.596431",
     "status": "completed"
    },
    "tags": []
   },
   "outputs": [],
   "source": [
    "def k_means_group(data, n_clusters, random_state, asc=False, log_transf=False, standard_tranf=False):\n",
    "    \n",
    "    data_temp = data.copy()\n",
    "    if log_transf:\n",
    "        data_temp = np.log(data_temp) + 1\n",
    "        \n",
    "    if standard_tranf:\n",
    "        scaler = StandardScaler()\n",
    "        scaler = scaler.fit(data_temp)\n",
    "        data_temp = scaler.transform(data_temp)\n",
    "        \n",
    "    kmeans_sel = KMeans(n_clusters=n_clusters, random_state=random_state).fit(data_temp)\n",
    "    cluster_group = data.assign(cluster = kmeans_sel.labels_)\n",
    "    mean_group = cluster_group.groupby('cluster').mean().reset_index()\n",
    "    mean_group = mean_group.sort_values(by=mean_group.columns[1],ascending=asc)\n",
    "    mean_group['cluster_set'] = [i for i in range(n_clusters, 0, -1) ]\n",
    "    cluster_map = mean_group.set_index('cluster').to_dict()['cluster_set']\n",
    "    return cluster_group['cluster'].map(cluster_map)"
   ]
  },
  {
   "cell_type": "code",
   "execution_count": 41,
   "id": "62fc44dd",
   "metadata": {
    "execution": {
     "iopub.execute_input": "2023-02-18T09:11:37.685617Z",
     "iopub.status.busy": "2023-02-18T09:11:37.685096Z",
     "iopub.status.idle": "2023-02-18T09:11:39.847168Z",
     "shell.execute_reply": "2023-02-18T09:11:39.845974Z"
    },
    "papermill": {
     "duration": 2.190492,
     "end_time": "2023-02-18T09:11:39.849967",
     "exception": false,
     "start_time": "2023-02-18T09:11:37.659475",
     "status": "completed"
    },
    "tags": []
   },
   "outputs": [],
   "source": [
    "r_labels = k_means_group(rfm_data[['recency']],6,1,asc=True)\n",
    "f_labels = k_means_group(rfm_data[['frequency']],6,1)\n",
    "m_labels = k_means_group(rfm_data[['monetary']],6,1)\n",
    "rfm_data = rfm_data.assign(R = r_labels, F = f_labels, M = m_labels) "
   ]
  },
  {
   "cell_type": "code",
   "execution_count": 42,
   "id": "be1896d0",
   "metadata": {
    "execution": {
     "iopub.execute_input": "2023-02-18T09:11:39.896978Z",
     "iopub.status.busy": "2023-02-18T09:11:39.896554Z",
     "iopub.status.idle": "2023-02-18T09:11:39.904582Z",
     "shell.execute_reply": "2023-02-18T09:11:39.903541Z"
    },
    "papermill": {
     "duration": 0.034725,
     "end_time": "2023-02-18T09:11:39.907226",
     "exception": false,
     "start_time": "2023-02-18T09:11:39.872501",
     "status": "completed"
    },
    "tags": []
   },
   "outputs": [],
   "source": [
    "rfm_data['R'] = rfm_data['R'] - 1\n",
    "rfm_data['R'] = rfm_data['F'] - 1\n",
    "rfm_data['R'] = rfm_data['M'] - 1"
   ]
  },
  {
   "cell_type": "markdown",
   "id": "a94b545f",
   "metadata": {
    "papermill": {
     "duration": 0.022579,
     "end_time": "2023-02-18T09:11:39.952583",
     "exception": false,
     "start_time": "2023-02-18T09:11:39.930004",
     "status": "completed"
    },
    "tags": []
   },
   "source": [
    "As we can see, most customers have a recency between 5 to 8 months."
   ]
  },
  {
   "cell_type": "code",
   "execution_count": 43,
   "id": "b064ef7d",
   "metadata": {
    "execution": {
     "iopub.execute_input": "2023-02-18T09:11:40.000125Z",
     "iopub.status.busy": "2023-02-18T09:11:39.999700Z",
     "iopub.status.idle": "2023-02-18T09:11:40.036851Z",
     "shell.execute_reply": "2023-02-18T09:11:40.035629Z"
    },
    "papermill": {
     "duration": 0.063951,
     "end_time": "2023-02-18T09:11:40.039303",
     "exception": false,
     "start_time": "2023-02-18T09:11:39.975352",
     "status": "completed"
    },
    "tags": []
   },
   "outputs": [
    {
     "data": {
      "text/html": [
       "<div>\n",
       "<style scoped>\n",
       "    .dataframe tbody tr th:only-of-type {\n",
       "        vertical-align: middle;\n",
       "    }\n",
       "\n",
       "    .dataframe tbody tr th {\n",
       "        vertical-align: top;\n",
       "    }\n",
       "\n",
       "    .dataframe thead th {\n",
       "        text-align: right;\n",
       "    }\n",
       "</style>\n",
       "<table border=\"1\" class=\"dataframe\">\n",
       "  <thead>\n",
       "    <tr style=\"text-align: right;\">\n",
       "      <th></th>\n",
       "      <th>count</th>\n",
       "      <th>mean</th>\n",
       "      <th>std</th>\n",
       "      <th>min</th>\n",
       "      <th>25%</th>\n",
       "      <th>50%</th>\n",
       "      <th>75%</th>\n",
       "      <th>max</th>\n",
       "    </tr>\n",
       "    <tr>\n",
       "      <th>R</th>\n",
       "      <th></th>\n",
       "      <th></th>\n",
       "      <th></th>\n",
       "      <th></th>\n",
       "      <th></th>\n",
       "      <th></th>\n",
       "      <th></th>\n",
       "      <th></th>\n",
       "    </tr>\n",
       "  </thead>\n",
       "  <tbody>\n",
       "    <tr>\n",
       "      <th>0</th>\n",
       "      <td>55396.0</td>\n",
       "      <td>246.577370</td>\n",
       "      <td>153.801551</td>\n",
       "      <td>5.0</td>\n",
       "      <td>122.0</td>\n",
       "      <td>229.0</td>\n",
       "      <td>357.0</td>\n",
       "      <td>729.0</td>\n",
       "    </tr>\n",
       "    <tr>\n",
       "      <th>1</th>\n",
       "      <td>27899.0</td>\n",
       "      <td>236.762214</td>\n",
       "      <td>150.793461</td>\n",
       "      <td>5.0</td>\n",
       "      <td>117.0</td>\n",
       "      <td>215.0</td>\n",
       "      <td>341.0</td>\n",
       "      <td>718.0</td>\n",
       "    </tr>\n",
       "    <tr>\n",
       "      <th>2</th>\n",
       "      <td>7921.0</td>\n",
       "      <td>249.164121</td>\n",
       "      <td>154.831445</td>\n",
       "      <td>1.0</td>\n",
       "      <td>124.0</td>\n",
       "      <td>230.0</td>\n",
       "      <td>355.0</td>\n",
       "      <td>699.0</td>\n",
       "    </tr>\n",
       "    <tr>\n",
       "      <th>3</th>\n",
       "      <td>2383.0</td>\n",
       "      <td>243.666807</td>\n",
       "      <td>155.642375</td>\n",
       "      <td>6.0</td>\n",
       "      <td>118.0</td>\n",
       "      <td>219.0</td>\n",
       "      <td>347.0</td>\n",
       "      <td>699.0</td>\n",
       "    </tr>\n",
       "    <tr>\n",
       "      <th>4</th>\n",
       "      <td>709.0</td>\n",
       "      <td>249.571227</td>\n",
       "      <td>153.109870</td>\n",
       "      <td>9.0</td>\n",
       "      <td>124.0</td>\n",
       "      <td>235.0</td>\n",
       "      <td>364.0</td>\n",
       "      <td>698.0</td>\n",
       "    </tr>\n",
       "    <tr>\n",
       "      <th>5</th>\n",
       "      <td>180.0</td>\n",
       "      <td>249.722222</td>\n",
       "      <td>178.185393</td>\n",
       "      <td>9.0</td>\n",
       "      <td>95.0</td>\n",
       "      <td>212.0</td>\n",
       "      <td>439.5</td>\n",
       "      <td>584.0</td>\n",
       "    </tr>\n",
       "  </tbody>\n",
       "</table>\n",
       "</div>"
      ],
      "text/plain": [
       "     count        mean         std  min    25%    50%    75%    max\n",
       "R                                                                  \n",
       "0  55396.0  246.577370  153.801551  5.0  122.0  229.0  357.0  729.0\n",
       "1  27899.0  236.762214  150.793461  5.0  117.0  215.0  341.0  718.0\n",
       "2   7921.0  249.164121  154.831445  1.0  124.0  230.0  355.0  699.0\n",
       "3   2383.0  243.666807  155.642375  6.0  118.0  219.0  347.0  699.0\n",
       "4    709.0  249.571227  153.109870  9.0  124.0  235.0  364.0  698.0\n",
       "5    180.0  249.722222  178.185393  9.0   95.0  212.0  439.5  584.0"
      ]
     },
     "execution_count": 43,
     "metadata": {},
     "output_type": "execute_result"
    }
   ],
   "source": [
    "rfm_data.groupby('R')['recency'].describe()"
   ]
  },
  {
   "cell_type": "markdown",
   "id": "5f92a834",
   "metadata": {
    "papermill": {
     "duration": 0.022486,
     "end_time": "2023-02-18T09:11:40.084675",
     "exception": false,
     "start_time": "2023-02-18T09:11:40.062189",
     "status": "completed"
    },
    "tags": []
   },
   "source": [
    " Because only 3% of customers made more than one purchase but is something that's very common in ecommerce."
   ]
  },
  {
   "cell_type": "code",
   "execution_count": 44,
   "id": "0ca55c28",
   "metadata": {
    "execution": {
     "iopub.execute_input": "2023-02-18T09:11:40.133027Z",
     "iopub.status.busy": "2023-02-18T09:11:40.132588Z",
     "iopub.status.idle": "2023-02-18T09:11:40.169785Z",
     "shell.execute_reply": "2023-02-18T09:11:40.168551Z"
    },
    "papermill": {
     "duration": 0.064754,
     "end_time": "2023-02-18T09:11:40.172336",
     "exception": false,
     "start_time": "2023-02-18T09:11:40.107582",
     "status": "completed"
    },
    "tags": []
   },
   "outputs": [
    {
     "data": {
      "text/html": [
       "<div>\n",
       "<style scoped>\n",
       "    .dataframe tbody tr th:only-of-type {\n",
       "        vertical-align: middle;\n",
       "    }\n",
       "\n",
       "    .dataframe tbody tr th {\n",
       "        vertical-align: top;\n",
       "    }\n",
       "\n",
       "    .dataframe thead th {\n",
       "        text-align: right;\n",
       "    }\n",
       "</style>\n",
       "<table border=\"1\" class=\"dataframe\">\n",
       "  <thead>\n",
       "    <tr style=\"text-align: right;\">\n",
       "      <th></th>\n",
       "      <th>count</th>\n",
       "      <th>mean</th>\n",
       "      <th>std</th>\n",
       "      <th>min</th>\n",
       "      <th>25%</th>\n",
       "      <th>50%</th>\n",
       "      <th>75%</th>\n",
       "      <th>max</th>\n",
       "    </tr>\n",
       "    <tr>\n",
       "      <th>F</th>\n",
       "      <th></th>\n",
       "      <th></th>\n",
       "      <th></th>\n",
       "      <th></th>\n",
       "      <th></th>\n",
       "      <th></th>\n",
       "      <th></th>\n",
       "      <th></th>\n",
       "    </tr>\n",
       "  </thead>\n",
       "  <tbody>\n",
       "    <tr>\n",
       "      <th>1</th>\n",
       "      <td>91621.0</td>\n",
       "      <td>1.000000</td>\n",
       "      <td>0.000000</td>\n",
       "      <td>1.0</td>\n",
       "      <td>1.0</td>\n",
       "      <td>1.0</td>\n",
       "      <td>1.00</td>\n",
       "      <td>1.0</td>\n",
       "    </tr>\n",
       "    <tr>\n",
       "      <th>2</th>\n",
       "      <td>2633.0</td>\n",
       "      <td>2.000000</td>\n",
       "      <td>0.000000</td>\n",
       "      <td>2.0</td>\n",
       "      <td>2.0</td>\n",
       "      <td>2.0</td>\n",
       "      <td>2.00</td>\n",
       "      <td>2.0</td>\n",
       "    </tr>\n",
       "    <tr>\n",
       "      <th>3</th>\n",
       "      <td>187.0</td>\n",
       "      <td>3.000000</td>\n",
       "      <td>0.000000</td>\n",
       "      <td>3.0</td>\n",
       "      <td>3.0</td>\n",
       "      <td>3.0</td>\n",
       "      <td>3.00</td>\n",
       "      <td>3.0</td>\n",
       "    </tr>\n",
       "    <tr>\n",
       "      <th>4</th>\n",
       "      <td>38.0</td>\n",
       "      <td>4.263158</td>\n",
       "      <td>0.446258</td>\n",
       "      <td>4.0</td>\n",
       "      <td>4.0</td>\n",
       "      <td>4.0</td>\n",
       "      <td>4.75</td>\n",
       "      <td>5.0</td>\n",
       "    </tr>\n",
       "    <tr>\n",
       "      <th>5</th>\n",
       "      <td>8.0</td>\n",
       "      <td>6.625000</td>\n",
       "      <td>1.060660</td>\n",
       "      <td>6.0</td>\n",
       "      <td>6.0</td>\n",
       "      <td>6.0</td>\n",
       "      <td>7.00</td>\n",
       "      <td>9.0</td>\n",
       "    </tr>\n",
       "    <tr>\n",
       "      <th>6</th>\n",
       "      <td>1.0</td>\n",
       "      <td>16.000000</td>\n",
       "      <td>NaN</td>\n",
       "      <td>16.0</td>\n",
       "      <td>16.0</td>\n",
       "      <td>16.0</td>\n",
       "      <td>16.00</td>\n",
       "      <td>16.0</td>\n",
       "    </tr>\n",
       "  </tbody>\n",
       "</table>\n",
       "</div>"
      ],
      "text/plain": [
       "     count       mean       std   min   25%   50%    75%   max\n",
       "F                                                             \n",
       "1  91621.0   1.000000  0.000000   1.0   1.0   1.0   1.00   1.0\n",
       "2   2633.0   2.000000  0.000000   2.0   2.0   2.0   2.00   2.0\n",
       "3    187.0   3.000000  0.000000   3.0   3.0   3.0   3.00   3.0\n",
       "4     38.0   4.263158  0.446258   4.0   4.0   4.0   4.75   5.0\n",
       "5      8.0   6.625000  1.060660   6.0   6.0   6.0   7.00   9.0\n",
       "6      1.0  16.000000       NaN  16.0  16.0  16.0  16.00  16.0"
      ]
     },
     "execution_count": 44,
     "metadata": {},
     "output_type": "execute_result"
    }
   ],
   "source": [
    "rfm_data.groupby('F')['frequency'].describe()"
   ]
  },
  {
   "cell_type": "markdown",
   "id": "62b7cd7d",
   "metadata": {
    "papermill": {
     "duration": 0.022729,
     "end_time": "2023-02-18T09:11:40.218184",
     "exception": false,
     "start_time": "2023-02-18T09:11:40.195455",
     "status": "completed"
    },
    "tags": []
   },
   "source": [
    "As we can see, most customers have an average monetary value of R\\$ 58.29. Which is not very good for business because the bigger the better."
   ]
  },
  {
   "cell_type": "code",
   "execution_count": 45,
   "id": "a7d03bb9",
   "metadata": {
    "execution": {
     "iopub.execute_input": "2023-02-18T09:11:40.266220Z",
     "iopub.status.busy": "2023-02-18T09:11:40.265787Z",
     "iopub.status.idle": "2023-02-18T09:11:40.305853Z",
     "shell.execute_reply": "2023-02-18T09:11:40.304874Z"
    },
    "papermill": {
     "duration": 0.066955,
     "end_time": "2023-02-18T09:11:40.308263",
     "exception": false,
     "start_time": "2023-02-18T09:11:40.241308",
     "status": "completed"
    },
    "tags": []
   },
   "outputs": [
    {
     "data": {
      "text/html": [
       "<div>\n",
       "<style scoped>\n",
       "    .dataframe tbody tr th:only-of-type {\n",
       "        vertical-align: middle;\n",
       "    }\n",
       "\n",
       "    .dataframe tbody tr th {\n",
       "        vertical-align: top;\n",
       "    }\n",
       "\n",
       "    .dataframe thead th {\n",
       "        text-align: right;\n",
       "    }\n",
       "</style>\n",
       "<table border=\"1\" class=\"dataframe\">\n",
       "  <thead>\n",
       "    <tr style=\"text-align: right;\">\n",
       "      <th></th>\n",
       "      <th>count</th>\n",
       "      <th>mean</th>\n",
       "      <th>std</th>\n",
       "      <th>min</th>\n",
       "      <th>25%</th>\n",
       "      <th>50%</th>\n",
       "      <th>75%</th>\n",
       "      <th>max</th>\n",
       "    </tr>\n",
       "    <tr>\n",
       "      <th>M</th>\n",
       "      <th></th>\n",
       "      <th></th>\n",
       "      <th></th>\n",
       "      <th></th>\n",
       "      <th></th>\n",
       "      <th></th>\n",
       "      <th></th>\n",
       "      <th></th>\n",
       "    </tr>\n",
       "  </thead>\n",
       "  <tbody>\n",
       "    <tr>\n",
       "      <th>1</th>\n",
       "      <td>55396.0</td>\n",
       "      <td>54.184579</td>\n",
       "      <td>26.234024</td>\n",
       "      <td>0.85</td>\n",
       "      <td>30.00</td>\n",
       "      <td>50.000</td>\n",
       "      <td>75.00</td>\n",
       "      <td>104.99</td>\n",
       "    </tr>\n",
       "    <tr>\n",
       "      <th>2</th>\n",
       "      <td>27899.0</td>\n",
       "      <td>155.035122</td>\n",
       "      <td>36.563567</td>\n",
       "      <td>105.00</td>\n",
       "      <td>122.99</td>\n",
       "      <td>149.000</td>\n",
       "      <td>179.96</td>\n",
       "      <td>244.08</td>\n",
       "    </tr>\n",
       "    <tr>\n",
       "      <th>3</th>\n",
       "      <td>7921.0</td>\n",
       "      <td>332.783065</td>\n",
       "      <td>68.170208</td>\n",
       "      <td>244.50</td>\n",
       "      <td>278.00</td>\n",
       "      <td>319.800</td>\n",
       "      <td>379.80</td>\n",
       "      <td>503.34</td>\n",
       "    </tr>\n",
       "    <tr>\n",
       "      <th>4</th>\n",
       "      <td>2383.0</td>\n",
       "      <td>673.861490</td>\n",
       "      <td>121.762913</td>\n",
       "      <td>504.00</td>\n",
       "      <td>578.00</td>\n",
       "      <td>649.000</td>\n",
       "      <td>759.99</td>\n",
       "      <td>970.00</td>\n",
       "    </tr>\n",
       "    <tr>\n",
       "      <th>5</th>\n",
       "      <td>709.0</td>\n",
       "      <td>1270.496178</td>\n",
       "      <td>229.348784</td>\n",
       "      <td>975.00</td>\n",
       "      <td>1094.04</td>\n",
       "      <td>1200.000</td>\n",
       "      <td>1399.99</td>\n",
       "      <td>1820.00</td>\n",
       "    </tr>\n",
       "    <tr>\n",
       "      <th>6</th>\n",
       "      <td>180.0</td>\n",
       "      <td>2381.596722</td>\n",
       "      <td>593.458494</td>\n",
       "      <td>1828.44</td>\n",
       "      <td>1999.00</td>\n",
       "      <td>2134.995</td>\n",
       "      <td>2649.00</td>\n",
       "      <td>4690.00</td>\n",
       "    </tr>\n",
       "  </tbody>\n",
       "</table>\n",
       "</div>"
      ],
      "text/plain": [
       "     count         mean         std      min      25%       50%      75%  \\\n",
       "M                                                                          \n",
       "1  55396.0    54.184579   26.234024     0.85    30.00    50.000    75.00   \n",
       "2  27899.0   155.035122   36.563567   105.00   122.99   149.000   179.96   \n",
       "3   7921.0   332.783065   68.170208   244.50   278.00   319.800   379.80   \n",
       "4   2383.0   673.861490  121.762913   504.00   578.00   649.000   759.99   \n",
       "5    709.0  1270.496178  229.348784   975.00  1094.04  1200.000  1399.99   \n",
       "6    180.0  2381.596722  593.458494  1828.44  1999.00  2134.995  2649.00   \n",
       "\n",
       "       max  \n",
       "M           \n",
       "1   104.99  \n",
       "2   244.08  \n",
       "3   503.34  \n",
       "4   970.00  \n",
       "5  1820.00  \n",
       "6  4690.00  "
      ]
     },
     "execution_count": 45,
     "metadata": {},
     "output_type": "execute_result"
    }
   ],
   "source": [
    "rfm_data.groupby('M')['monetary'].describe()"
   ]
  },
  {
   "cell_type": "code",
   "execution_count": 46,
   "id": "a69560ec",
   "metadata": {
    "execution": {
     "iopub.execute_input": "2023-02-18T09:11:40.357822Z",
     "iopub.status.busy": "2023-02-18T09:11:40.357392Z",
     "iopub.status.idle": "2023-02-18T09:11:40.369024Z",
     "shell.execute_reply": "2023-02-18T09:11:40.367763Z"
    },
    "papermill": {
     "duration": 0.039405,
     "end_time": "2023-02-18T09:11:40.371413",
     "exception": false,
     "start_time": "2023-02-18T09:11:40.332008",
     "status": "completed"
    },
    "tags": []
   },
   "outputs": [],
   "source": [
    "def get_segment(data):\n",
    "    mean_fm = (data['F'] + data['M']) / 2\n",
    "    \n",
    "    if (data['R'] >= 4 and data['R'] <= 5) and (mean_fm >= 4 and mean_fm <= 5):\n",
    "        return 'Champions'\n",
    "    if (data['R'] >= 2 and data['R'] <= 5) and (mean_fm >= 3 and mean_fm <= 5):\n",
    "        return 'Loyal Customers'\n",
    "    if (data['R'] >= 3 and data['R'] <= 5) and (mean_fm >= 1 and mean_fm <= 3):\n",
    "        return 'Potential Loyslist'\n",
    "    if (data['R'] >= 4 and data['R'] <= 5) and (mean_fm >= 0 and mean_fm <= 1):\n",
    "        return 'New Customers'\n",
    "    if (data['R'] >= 3 and data['R'] <= 4) and (mean_fm >= 0 and mean_fm <= 1):\n",
    "        return 'Promising'\n",
    "    if (data['R'] >= 2 and data['R'] <= 3) and (mean_fm >= 2 and mean_fm <= 3):\n",
    "        return 'Customer Needing Attention'\n",
    "    if (data['R'] >= 2 and data['R'] <= 3) and (mean_fm >= 0 and mean_fm <= 2):\n",
    "        return 'About to Sleep'\n",
    "    if (data['R'] >= 0 and data['R'] <= 2) and (mean_fm >= 2 and mean_fm <= 5):\n",
    "        return 'At Risk'\n",
    "    if (data['R'] >= 0 and data['R'] <= 1) and (mean_fm >= 4 and mean_fm <= 5):\n",
    "        return \"Can't Lose Then\"\n",
    "    if (data['R'] >= 1 and data['R'] <= 2) and (mean_fm >= 1 and mean_fm <= 2):\n",
    "        return 'Hibernating'\n",
    "    return 'Lost'"
   ]
  },
  {
   "cell_type": "code",
   "execution_count": 47,
   "id": "911ee079",
   "metadata": {
    "execution": {
     "iopub.execute_input": "2023-02-18T09:11:40.420980Z",
     "iopub.status.busy": "2023-02-18T09:11:40.420545Z",
     "iopub.status.idle": "2023-02-18T09:11:46.273276Z",
     "shell.execute_reply": "2023-02-18T09:11:46.272189Z"
    },
    "papermill": {
     "duration": 5.880833,
     "end_time": "2023-02-18T09:11:46.276085",
     "exception": false,
     "start_time": "2023-02-18T09:11:40.395252",
     "status": "completed"
    },
    "tags": []
   },
   "outputs": [],
   "source": [
    "rfm_data['segment'] = rfm_data.apply(get_segment,axis=1)"
   ]
  },
  {
   "cell_type": "code",
   "execution_count": 48,
   "id": "8f6c4c3a",
   "metadata": {
    "execution": {
     "iopub.execute_input": "2023-02-18T09:11:46.325955Z",
     "iopub.status.busy": "2023-02-18T09:11:46.325537Z",
     "iopub.status.idle": "2023-02-18T09:11:46.561284Z",
     "shell.execute_reply": "2023-02-18T09:11:46.560119Z"
    },
    "papermill": {
     "duration": 0.264174,
     "end_time": "2023-02-18T09:11:46.564163",
     "exception": false,
     "start_time": "2023-02-18T09:11:46.299989",
     "status": "completed"
    },
    "tags": []
   },
   "outputs": [
    {
     "data": {
      "image/png": "[encoded data removed]",
      "text/plain": [
       "<Figure size 1000x500 with 1 Axes>"
      ]
     },
     "metadata": {},
     "output_type": "display_data"
    }
   ],
   "source": [
    "plt.figure(figsize=(10,5))\n",
    "percentage = (rfm_data['segment'].value_counts(normalize=True)* 100).reset_index(name='percentage')\n",
    "g = sns.barplot(x=percentage['percentage'],y=percentage['index'], data=percentage,palette=\"GnBu_d\")\n",
    "sns.despine(bottom = True, left = True)\n",
    "for i, v in enumerate(percentage['percentage']):\n",
    "    g.text(v,i+0.20,\"  {:.2f}\".format(v)+\"%\", color='black', ha=\"left\")\n",
    "g.set_ylabel('Segmentation')\n",
    "g.set(xticks=[])\n",
    "plt.show()"
   ]
  },
  {
   "cell_type": "markdown",
   "id": "f8316a25",
   "metadata": {
    "papermill": {
     "duration": 0.02409,
     "end_time": "2023-02-18T09:11:46.612786",
     "exception": false,
     "start_time": "2023-02-18T09:11:46.588696",
     "status": "completed"
    },
    "tags": []
   },
   "source": [
    "### Conclusion:\n",
    "\n",
    "**58.61% - Lost:**\n",
    "\n",
    "Low frequency of purchase, recency and spending.\n",
    "\n",
    "<u>CRM Strategy:</u>\n",
    "\n",
    "* Reviving interest with outreach campaigns\n",
    "\n",
    "**28.23% - Hibernating:**\n",
    "\n",
    "These are customers who have bought a long time ago, only a few times and have spent little\n",
    "\n",
    "<u>CRM Strategy</u>:\n",
    "\n",
    "* Standard communication for sending offers;\n",
    "* Offer relevant products and good deals.\n",
    "\n",
    "**8.29% - Customer Needing Attetion:**\n",
    "\n",
    "These are customers who have recently purchased, however are still in doubt whether they will make their next purchase from the company or a competitor.\n",
    "\n",
    "<u>CRM Strategy</u>:\n",
    "\n",
    "* Promotional campaigns for a limited time;\n",
    "* Product recommendations based on their behavior;\n",
    "* Show the importance of buying with the company.\n",
    "\n",
    "**2.31% - Potential Loyslist:**\n",
    "\n",
    "These are recent buyers, spend a good amount and have bought more than once.\n",
    "\n",
    "<u>CRM Strategy</u>:\n",
    "\n",
    "* Offer a loyalty program;\n",
    "* Keep them engaged;\n",
    "* Personalized and other product recommendations.\n",
    "\n",
    "**1.32% - At Risk:**\n",
    "\n",
    "These are customers who have spent very little money and buy frequently, but have not bought for a long time\n",
    "\n",
    "<u>CRM Strategy</u>:\n",
    "\n",
    "* Send personalized communications and other messages to reconnect;\n",
    "* Offer good deals.\n",
    "\n",
    "**1.21% - Loyal Customers:**\n",
    "\n",
    "These are customers who spend well and often.\n",
    "\n",
    "<u>CRM Strategy</u>:\n",
    "\n",
    "* Personalized communication;\n",
    "* Avoid mass mailing of offers;\n",
    "* Offer few products, but present products that they are likely to be interested in;\n",
    "* Ask for product reviews.\n",
    "\n",
    "**0.03% - Champions:**\n",
    "\n",
    "These are customers who have bought recently, buy often, and spend a lot.\n",
    "\n",
    "<u> CRM Strategy</u>:\n",
    "\n",
    "* Special offers, products and discounts for these customers so they feel valued;\n",
    "* Ask for reviews and feedbacks constantly;\n",
    "* Avoid sending massive amounts of offers;\n",
    "* Personalized communication;\n",
    "* Give rewards."
   ]
  }
 ],
 "metadata": {
  "kernelspec": {
   "display_name": "Python 3",
   "language": "python",
   "name": "python3"
  },
  "language_info": {
   "codemirror_mode": {
    "name": "ipython",
    "version": 3
   },
   "file_extension": ".py",
   "mimetype": "text/x-python",
   "name": "python",
   "nbconvert_exporter": "python",
   "pygments_lexer": "ipython3",
   "version": "3.7.12"
  },
  "papermill": {
   "default_parameters": {},
   "duration": 57.08502,
   "end_time": "2023-02-18T09:11:47.661896",
   "environment_variables": {},
   "exception": null,
   "input_path": "__notebook__.ipynb",
   "output_path": "__notebook__.ipynb",
   "parameters": {},
   "start_time": "2023-02-18T09:10:50.576876",
   "version": "2.3.4"
  }
 },
 "nbformat": 4,
 "nbformat_minor": 5
}
